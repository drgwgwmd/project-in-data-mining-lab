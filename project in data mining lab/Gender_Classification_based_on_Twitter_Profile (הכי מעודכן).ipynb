{
  "cells": [
    {
      "cell_type": "markdown",
      "metadata": {
        "id": "Ubazhc_sj_-V"
      },
      "source": [
        "# Twitter User Gender Classification\n",
        "Predict user gender based on Twitter profile information\n",
        "\n",
        "### Table of Contents:\n",
        "1. Understanding Dataset\n",
        "2. Cleaning Dataset\n",
        "3. Visualizing Dataset\n",
        "4. Classification Modeling"
      ]
    },
    {
      "cell_type": "code",
      "execution_count": 3,
      "metadata": {
        "colab": {
          "base_uri": "https://localhost:8080/"
        },
        "id": "kH3-OrVWj_-Z",
        "outputId": "2b5f312f-f2ce-474d-8ca3-3d5716ab6198"
      },
      "outputs": [
        {
          "output_type": "stream",
          "name": "stdout",
          "text": [
            "Requirement already satisfied: tensorflow in /usr/local/lib/python3.10/dist-packages (2.12.0)\n",
            "Requirement already satisfied: absl-py>=1.0.0 in /usr/local/lib/python3.10/dist-packages (from tensorflow) (1.4.0)\n",
            "Requirement already satisfied: astunparse>=1.6.0 in /usr/local/lib/python3.10/dist-packages (from tensorflow) (1.6.3)\n",
            "Requirement already satisfied: flatbuffers>=2.0 in /usr/local/lib/python3.10/dist-packages (from tensorflow) (23.5.26)\n",
            "Requirement already satisfied: gast<=0.4.0,>=0.2.1 in /usr/local/lib/python3.10/dist-packages (from tensorflow) (0.4.0)\n",
            "Requirement already satisfied: google-pasta>=0.1.1 in /usr/local/lib/python3.10/dist-packages (from tensorflow) (0.2.0)\n",
            "Requirement already satisfied: grpcio<2.0,>=1.24.3 in /usr/local/lib/python3.10/dist-packages (from tensorflow) (1.57.0)\n",
            "Requirement already satisfied: h5py>=2.9.0 in /usr/local/lib/python3.10/dist-packages (from tensorflow) (3.9.0)\n",
            "Requirement already satisfied: jax>=0.3.15 in /usr/local/lib/python3.10/dist-packages (from tensorflow) (0.4.14)\n",
            "Requirement already satisfied: keras<2.13,>=2.12.0 in /usr/local/lib/python3.10/dist-packages (from tensorflow) (2.12.0)\n",
            "Requirement already satisfied: libclang>=13.0.0 in /usr/local/lib/python3.10/dist-packages (from tensorflow) (16.0.6)\n",
            "Requirement already satisfied: numpy<1.24,>=1.22 in /usr/local/lib/python3.10/dist-packages (from tensorflow) (1.23.5)\n",
            "Requirement already satisfied: opt-einsum>=2.3.2 in /usr/local/lib/python3.10/dist-packages (from tensorflow) (3.3.0)\n",
            "Requirement already satisfied: packaging in /usr/local/lib/python3.10/dist-packages (from tensorflow) (23.1)\n",
            "Requirement already satisfied: protobuf!=4.21.0,!=4.21.1,!=4.21.2,!=4.21.3,!=4.21.4,!=4.21.5,<5.0.0dev,>=3.20.3 in /usr/local/lib/python3.10/dist-packages (from tensorflow) (3.20.3)\n",
            "Requirement already satisfied: setuptools in /usr/local/lib/python3.10/dist-packages (from tensorflow) (67.7.2)\n",
            "Requirement already satisfied: six>=1.12.0 in /usr/local/lib/python3.10/dist-packages (from tensorflow) (1.16.0)\n",
            "Requirement already satisfied: tensorboard<2.13,>=2.12 in /usr/local/lib/python3.10/dist-packages (from tensorflow) (2.12.3)\n",
            "Requirement already satisfied: tensorflow-estimator<2.13,>=2.12.0 in /usr/local/lib/python3.10/dist-packages (from tensorflow) (2.12.0)\n",
            "Requirement already satisfied: termcolor>=1.1.0 in /usr/local/lib/python3.10/dist-packages (from tensorflow) (2.3.0)\n",
            "Requirement already satisfied: typing-extensions>=3.6.6 in /usr/local/lib/python3.10/dist-packages (from tensorflow) (4.7.1)\n",
            "Requirement already satisfied: wrapt<1.15,>=1.11.0 in /usr/local/lib/python3.10/dist-packages (from tensorflow) (1.14.1)\n",
            "Requirement already satisfied: tensorflow-io-gcs-filesystem>=0.23.1 in /usr/local/lib/python3.10/dist-packages (from tensorflow) (0.33.0)\n",
            "Requirement already satisfied: wheel<1.0,>=0.23.0 in /usr/local/lib/python3.10/dist-packages (from astunparse>=1.6.0->tensorflow) (0.41.2)\n",
            "Requirement already satisfied: ml-dtypes>=0.2.0 in /usr/local/lib/python3.10/dist-packages (from jax>=0.3.15->tensorflow) (0.2.0)\n",
            "Requirement already satisfied: scipy>=1.7 in /usr/local/lib/python3.10/dist-packages (from jax>=0.3.15->tensorflow) (1.10.1)\n",
            "Requirement already satisfied: google-auth<3,>=1.6.3 in /usr/local/lib/python3.10/dist-packages (from tensorboard<2.13,>=2.12->tensorflow) (2.17.3)\n",
            "Requirement already satisfied: google-auth-oauthlib<1.1,>=0.5 in /usr/local/lib/python3.10/dist-packages (from tensorboard<2.13,>=2.12->tensorflow) (1.0.0)\n",
            "Requirement already satisfied: markdown>=2.6.8 in /usr/local/lib/python3.10/dist-packages (from tensorboard<2.13,>=2.12->tensorflow) (3.4.4)\n",
            "Requirement already satisfied: requests<3,>=2.21.0 in /usr/local/lib/python3.10/dist-packages (from tensorboard<2.13,>=2.12->tensorflow) (2.31.0)\n",
            "Requirement already satisfied: tensorboard-data-server<0.8.0,>=0.7.0 in /usr/local/lib/python3.10/dist-packages (from tensorboard<2.13,>=2.12->tensorflow) (0.7.1)\n",
            "Requirement already satisfied: werkzeug>=1.0.1 in /usr/local/lib/python3.10/dist-packages (from tensorboard<2.13,>=2.12->tensorflow) (2.3.7)\n",
            "Requirement already satisfied: cachetools<6.0,>=2.0.0 in /usr/local/lib/python3.10/dist-packages (from google-auth<3,>=1.6.3->tensorboard<2.13,>=2.12->tensorflow) (5.3.1)\n",
            "Requirement already satisfied: pyasn1-modules>=0.2.1 in /usr/local/lib/python3.10/dist-packages (from google-auth<3,>=1.6.3->tensorboard<2.13,>=2.12->tensorflow) (0.3.0)\n",
            "Requirement already satisfied: rsa<5,>=3.1.4 in /usr/local/lib/python3.10/dist-packages (from google-auth<3,>=1.6.3->tensorboard<2.13,>=2.12->tensorflow) (4.9)\n",
            "Requirement already satisfied: requests-oauthlib>=0.7.0 in /usr/local/lib/python3.10/dist-packages (from google-auth-oauthlib<1.1,>=0.5->tensorboard<2.13,>=2.12->tensorflow) (1.3.1)\n",
            "Requirement already satisfied: charset-normalizer<4,>=2 in /usr/local/lib/python3.10/dist-packages (from requests<3,>=2.21.0->tensorboard<2.13,>=2.12->tensorflow) (3.2.0)\n",
            "Requirement already satisfied: idna<4,>=2.5 in /usr/local/lib/python3.10/dist-packages (from requests<3,>=2.21.0->tensorboard<2.13,>=2.12->tensorflow) (3.4)\n",
            "Requirement already satisfied: urllib3<3,>=1.21.1 in /usr/local/lib/python3.10/dist-packages (from requests<3,>=2.21.0->tensorboard<2.13,>=2.12->tensorflow) (2.0.4)\n",
            "Requirement already satisfied: certifi>=2017.4.17 in /usr/local/lib/python3.10/dist-packages (from requests<3,>=2.21.0->tensorboard<2.13,>=2.12->tensorflow) (2023.7.22)\n",
            "Requirement already satisfied: MarkupSafe>=2.1.1 in /usr/local/lib/python3.10/dist-packages (from werkzeug>=1.0.1->tensorboard<2.13,>=2.12->tensorflow) (2.1.3)\n",
            "Requirement already satisfied: pyasn1<0.6.0,>=0.4.6 in /usr/local/lib/python3.10/dist-packages (from pyasn1-modules>=0.2.1->google-auth<3,>=1.6.3->tensorboard<2.13,>=2.12->tensorflow) (0.5.0)\n",
            "Requirement already satisfied: oauthlib>=3.0.0 in /usr/local/lib/python3.10/dist-packages (from requests-oauthlib>=0.7.0->google-auth-oauthlib<1.1,>=0.5->tensorboard<2.13,>=2.12->tensorflow) (3.2.2)\n",
            "Collecting eli5\n",
            "  Downloading eli5-0.13.0.tar.gz (216 kB)\n",
            "\u001b[2K     \u001b[90m━━━━━━━━━━━━━━━━━━━━━━━━━━━━━━━━━━━━━━━\u001b[0m \u001b[32m216.2/216.2 kB\u001b[0m \u001b[31m3.1 MB/s\u001b[0m eta \u001b[36m0:00:00\u001b[0m\n",
            "\u001b[?25h  Preparing metadata (setup.py) ... \u001b[?25l\u001b[?25hdone\n",
            "Requirement already satisfied: attrs>17.1.0 in /usr/local/lib/python3.10/dist-packages (from eli5) (23.1.0)\n",
            "Requirement already satisfied: jinja2>=3.0.0 in /usr/local/lib/python3.10/dist-packages (from eli5) (3.1.2)\n",
            "Requirement already satisfied: numpy>=1.9.0 in /usr/local/lib/python3.10/dist-packages (from eli5) (1.23.5)\n",
            "Requirement already satisfied: scipy in /usr/local/lib/python3.10/dist-packages (from eli5) (1.10.1)\n",
            "Requirement already satisfied: six in /usr/local/lib/python3.10/dist-packages (from eli5) (1.16.0)\n",
            "Requirement already satisfied: scikit-learn>=0.20 in /usr/local/lib/python3.10/dist-packages (from eli5) (1.2.2)\n",
            "Requirement already satisfied: graphviz in /usr/local/lib/python3.10/dist-packages (from eli5) (0.20.1)\n",
            "Requirement already satisfied: tabulate>=0.7.7 in /usr/local/lib/python3.10/dist-packages (from eli5) (0.9.0)\n",
            "Requirement already satisfied: MarkupSafe>=2.0 in /usr/local/lib/python3.10/dist-packages (from jinja2>=3.0.0->eli5) (2.1.3)\n",
            "Requirement already satisfied: joblib>=1.1.1 in /usr/local/lib/python3.10/dist-packages (from scikit-learn>=0.20->eli5) (1.3.2)\n",
            "Requirement already satisfied: threadpoolctl>=2.0.0 in /usr/local/lib/python3.10/dist-packages (from scikit-learn>=0.20->eli5) (3.2.0)\n",
            "Building wheels for collected packages: eli5\n",
            "  Building wheel for eli5 (setup.py) ... \u001b[?25l\u001b[?25hdone\n",
            "  Created wheel for eli5: filename=eli5-0.13.0-py2.py3-none-any.whl size=107719 sha256=fc179888d0b6b6ca9a08aab180ff0073c69575633fd50ef6cbf71b9d61e63c01\n",
            "  Stored in directory: /root/.cache/pip/wheels/b8/58/ef/2cf4c306898c2338d51540e0922c8e0d6028e07007085c0004\n",
            "Successfully built eli5\n",
            "Installing collected packages: eli5\n",
            "Successfully installed eli5-0.13.0\n",
            "Requirement already satisfied: tensorflow in /usr/local/lib/python3.10/dist-packages (2.12.0)\n",
            "Requirement already satisfied: keras in /usr/local/lib/python3.10/dist-packages (2.12.0)\n",
            "Requirement already satisfied: absl-py>=1.0.0 in /usr/local/lib/python3.10/dist-packages (from tensorflow) (1.4.0)\n",
            "Requirement already satisfied: astunparse>=1.6.0 in /usr/local/lib/python3.10/dist-packages (from tensorflow) (1.6.3)\n",
            "Requirement already satisfied: flatbuffers>=2.0 in /usr/local/lib/python3.10/dist-packages (from tensorflow) (23.5.26)\n",
            "Requirement already satisfied: gast<=0.4.0,>=0.2.1 in /usr/local/lib/python3.10/dist-packages (from tensorflow) (0.4.0)\n",
            "Requirement already satisfied: google-pasta>=0.1.1 in /usr/local/lib/python3.10/dist-packages (from tensorflow) (0.2.0)\n",
            "Requirement already satisfied: grpcio<2.0,>=1.24.3 in /usr/local/lib/python3.10/dist-packages (from tensorflow) (1.57.0)\n",
            "Requirement already satisfied: h5py>=2.9.0 in /usr/local/lib/python3.10/dist-packages (from tensorflow) (3.9.0)\n",
            "Requirement already satisfied: jax>=0.3.15 in /usr/local/lib/python3.10/dist-packages (from tensorflow) (0.4.14)\n",
            "Requirement already satisfied: libclang>=13.0.0 in /usr/local/lib/python3.10/dist-packages (from tensorflow) (16.0.6)\n",
            "Requirement already satisfied: numpy<1.24,>=1.22 in /usr/local/lib/python3.10/dist-packages (from tensorflow) (1.23.5)\n",
            "Requirement already satisfied: opt-einsum>=2.3.2 in /usr/local/lib/python3.10/dist-packages (from tensorflow) (3.3.0)\n",
            "Requirement already satisfied: packaging in /usr/local/lib/python3.10/dist-packages (from tensorflow) (23.1)\n",
            "Requirement already satisfied: protobuf!=4.21.0,!=4.21.1,!=4.21.2,!=4.21.3,!=4.21.4,!=4.21.5,<5.0.0dev,>=3.20.3 in /usr/local/lib/python3.10/dist-packages (from tensorflow) (3.20.3)\n",
            "Requirement already satisfied: setuptools in /usr/local/lib/python3.10/dist-packages (from tensorflow) (67.7.2)\n",
            "Requirement already satisfied: six>=1.12.0 in /usr/local/lib/python3.10/dist-packages (from tensorflow) (1.16.0)\n",
            "Requirement already satisfied: tensorboard<2.13,>=2.12 in /usr/local/lib/python3.10/dist-packages (from tensorflow) (2.12.3)\n",
            "Requirement already satisfied: tensorflow-estimator<2.13,>=2.12.0 in /usr/local/lib/python3.10/dist-packages (from tensorflow) (2.12.0)\n",
            "Requirement already satisfied: termcolor>=1.1.0 in /usr/local/lib/python3.10/dist-packages (from tensorflow) (2.3.0)\n",
            "Requirement already satisfied: typing-extensions>=3.6.6 in /usr/local/lib/python3.10/dist-packages (from tensorflow) (4.7.1)\n",
            "Requirement already satisfied: wrapt<1.15,>=1.11.0 in /usr/local/lib/python3.10/dist-packages (from tensorflow) (1.14.1)\n",
            "Requirement already satisfied: tensorflow-io-gcs-filesystem>=0.23.1 in /usr/local/lib/python3.10/dist-packages (from tensorflow) (0.33.0)\n",
            "Requirement already satisfied: wheel<1.0,>=0.23.0 in /usr/local/lib/python3.10/dist-packages (from astunparse>=1.6.0->tensorflow) (0.41.2)\n",
            "Requirement already satisfied: ml-dtypes>=0.2.0 in /usr/local/lib/python3.10/dist-packages (from jax>=0.3.15->tensorflow) (0.2.0)\n",
            "Requirement already satisfied: scipy>=1.7 in /usr/local/lib/python3.10/dist-packages (from jax>=0.3.15->tensorflow) (1.10.1)\n",
            "Requirement already satisfied: google-auth<3,>=1.6.3 in /usr/local/lib/python3.10/dist-packages (from tensorboard<2.13,>=2.12->tensorflow) (2.17.3)\n",
            "Requirement already satisfied: google-auth-oauthlib<1.1,>=0.5 in /usr/local/lib/python3.10/dist-packages (from tensorboard<2.13,>=2.12->tensorflow) (1.0.0)\n",
            "Requirement already satisfied: markdown>=2.6.8 in /usr/local/lib/python3.10/dist-packages (from tensorboard<2.13,>=2.12->tensorflow) (3.4.4)\n",
            "Requirement already satisfied: requests<3,>=2.21.0 in /usr/local/lib/python3.10/dist-packages (from tensorboard<2.13,>=2.12->tensorflow) (2.31.0)\n",
            "Requirement already satisfied: tensorboard-data-server<0.8.0,>=0.7.0 in /usr/local/lib/python3.10/dist-packages (from tensorboard<2.13,>=2.12->tensorflow) (0.7.1)\n",
            "Requirement already satisfied: werkzeug>=1.0.1 in /usr/local/lib/python3.10/dist-packages (from tensorboard<2.13,>=2.12->tensorflow) (2.3.7)\n",
            "Requirement already satisfied: cachetools<6.0,>=2.0.0 in /usr/local/lib/python3.10/dist-packages (from google-auth<3,>=1.6.3->tensorboard<2.13,>=2.12->tensorflow) (5.3.1)\n",
            "Requirement already satisfied: pyasn1-modules>=0.2.1 in /usr/local/lib/python3.10/dist-packages (from google-auth<3,>=1.6.3->tensorboard<2.13,>=2.12->tensorflow) (0.3.0)\n",
            "Requirement already satisfied: rsa<5,>=3.1.4 in /usr/local/lib/python3.10/dist-packages (from google-auth<3,>=1.6.3->tensorboard<2.13,>=2.12->tensorflow) (4.9)\n",
            "Requirement already satisfied: requests-oauthlib>=0.7.0 in /usr/local/lib/python3.10/dist-packages (from google-auth-oauthlib<1.1,>=0.5->tensorboard<2.13,>=2.12->tensorflow) (1.3.1)\n",
            "Requirement already satisfied: charset-normalizer<4,>=2 in /usr/local/lib/python3.10/dist-packages (from requests<3,>=2.21.0->tensorboard<2.13,>=2.12->tensorflow) (3.2.0)\n",
            "Requirement already satisfied: idna<4,>=2.5 in /usr/local/lib/python3.10/dist-packages (from requests<3,>=2.21.0->tensorboard<2.13,>=2.12->tensorflow) (3.4)\n",
            "Requirement already satisfied: urllib3<3,>=1.21.1 in /usr/local/lib/python3.10/dist-packages (from requests<3,>=2.21.0->tensorboard<2.13,>=2.12->tensorflow) (2.0.4)\n",
            "Requirement already satisfied: certifi>=2017.4.17 in /usr/local/lib/python3.10/dist-packages (from requests<3,>=2.21.0->tensorboard<2.13,>=2.12->tensorflow) (2023.7.22)\n",
            "Requirement already satisfied: MarkupSafe>=2.1.1 in /usr/local/lib/python3.10/dist-packages (from werkzeug>=1.0.1->tensorboard<2.13,>=2.12->tensorflow) (2.1.3)\n",
            "Requirement already satisfied: pyasn1<0.6.0,>=0.4.6 in /usr/local/lib/python3.10/dist-packages (from pyasn1-modules>=0.2.1->google-auth<3,>=1.6.3->tensorboard<2.13,>=2.12->tensorflow) (0.5.0)\n",
            "Requirement already satisfied: oauthlib>=3.0.0 in /usr/local/lib/python3.10/dist-packages (from requests-oauthlib>=0.7.0->google-auth-oauthlib<1.1,>=0.5->tensorboard<2.13,>=2.12->tensorflow) (3.2.2)\n"
          ]
        },
        {
          "output_type": "stream",
          "name": "stderr",
          "text": [
            "[nltk_data] Downloading package stopwords to /root/nltk_data...\n",
            "[nltk_data]   Unzipping corpora/stopwords.zip.\n"
          ]
        }
      ],
      "source": [
        "# Import libraries\n",
        "\n",
        "!pip install tensorflow\n",
        "!pip install eli5\n",
        "!pip install tensorflow keras\n",
        "import eli5\n",
        "from sklearn.metrics import accuracy_score, confusion_matrix, classification_report, f1_score\n",
        "from sklearn.pipeline import Pipeline\n",
        "import pandas as pd\n",
        "from sklearn.preprocessing import LabelEncoder\n",
        "from sklearn.metrics import roc_auc_score\n",
        "\n",
        "import pandas as pd\n",
        "import numpy as np\n",
        "import matplotlib.pyplot as plt\n",
        "import seaborn as sns\n",
        "\n",
        "# Preprocessing data\n",
        "from sklearn.preprocessing import MinMaxScaler\n",
        "from sklearn.model_selection import train_test_split\n",
        "from sklearn.pipeline import Pipeline\n",
        "from sklearn.feature_extraction.text import TfidfVectorizer\n",
        "\n",
        "# Handling text data\n",
        "import re\n",
        "import regex\n",
        "import nltk\n",
        "from collections import Counter\n",
        "from nltk.stem import PorterStemmer\n",
        "nltk.download('stopwords')\n",
        "from nltk.corpus import stopwords\n",
        "\n",
        "# Machine learning models\n",
        "from sklearn.linear_model import LogisticRegression\n",
        "from sklearn.naive_bayes import ComplementNB\n",
        "from sklearn.svm import SVC\n",
        "from sklearn.ensemble import RandomForestClassifier\n",
        "from sklearn.ensemble import VotingClassifier\n",
        "\n",
        "%matplotlib inline"
      ]
    },
    {
      "cell_type": "markdown",
      "metadata": {
        "id": "9F5D9nu3j_-b"
      },
      "source": [
        "## 1. Understanding Dataset\n",
        "\n",
        "This dataset is obtained from [Kaggle](https://www.kaggle.com/crowdflower/twitter-user-gender-classification).\n",
        "\n",
        "The dataset contains 20,000 rows, each with a user name, a random tweet, account profile and image, location, and even link and sidebar color.\n",
        "\n",
        "Attributes that do not provide useful information for *Gender classification*:\n",
        " - **_unit_id**: a unique id for user\n",
        " - **_last_judgment_at**: date and time of last contributor judgment; blank for gold standard observations\n",
        " - **user_timezone**: the timezone of the user\n",
        " - **tweet_coord**: if the user has location turned on, the coordinates as a string with the format \"[latitude, longitude]\"\n",
        " - **tweet_created**: when the random tweet (in the text column) was created\n",
        " - **tweet_id**: the tweet id of the random tweet\n",
        " - **tweet_location**: location of the tweet; seems to not be particularly normalized\n",
        " - **profileimage**: a link to the profile image\n",
        " - **created**: date and time when the profile was created\n",
        "\n",
        "\n",
        "Attributes that potentially provide useful information for *Gender classification*:\n",
        " - **_golden**: whether the user was included in the gold standard for the model; TRUE or FALSE\n",
        " - **_unit_state**: state of the observation; one of finalized (for contributor-judged) or golden (for gold standard observations)\n",
        " - **_trusted_judgments**: number of trusted judgments (int); always 3 for non-golden, and what may be a unique id for gold standard observations\n",
        " - **gender**: one of male, female, or brand (for non-human profiles)\n",
        " - **gender:confidence**: a float representing confidence in the provided gender\n",
        " - **gender_gold**: if the profile is golden, what is the gender?\n",
        " - **profile_yn**: \"no\" here seems to mean that the profile was meant to be part of the dataset but was not available when contributors went to judge it\n",
        " - **profile_yn:confidence**: confidence in the existence/non-existence of the profile\n",
        " - **profile_yn_gold**: whether the profile y/n value is golden\n",
        " - **description**: the user's profile description\n",
        " - **fav_number**: number of tweets the user has favorited\n",
        " - **link_color**: the link color on the profile, as a hex value\n",
        " - **name**: the user's name\n",
        " - **retweet_count**: number of times the user has retweeted (or possibly, been retweeted)\n",
        " - **sidebar_color**: color of the profile sidebar, as a hex value\n",
        " - **text**: text of a random one of the user's tweets\n",
        " - **tweet_count**: number of tweets that the user has posted\n"
      ]
    },
    {
      "cell_type": "code",
      "execution_count": 4,
      "metadata": {
        "scrolled": false,
        "colab": {
          "base_uri": "https://localhost:8080/"
        },
        "id": "Si7dlVQJj_-c",
        "outputId": "93c5d1ed-1318-4f63-db14-0a89e666495a"
      },
      "outputs": [
        {
          "output_type": "stream",
          "name": "stdout",
          "text": [
            "Mounted at /content/drive\n",
            "<class 'pandas.core.frame.DataFrame'>\n",
            "RangeIndex: 20050 entries, 0 to 20049\n",
            "Data columns (total 16 columns):\n",
            " #   Column                 Non-Null Count  Dtype  \n",
            "---  ------                 --------------  -----  \n",
            " 0   _golden                20050 non-null  bool   \n",
            " 1   _unit_state            20050 non-null  object \n",
            " 2   _trusted_judgments     20050 non-null  int64  \n",
            " 3   gender                 19953 non-null  object \n",
            " 4   gender:confidence      20024 non-null  float64\n",
            " 5   profile_yn             20050 non-null  object \n",
            " 6   profile_yn:confidence  20050 non-null  float64\n",
            " 7   description            16306 non-null  object \n",
            " 8   fav_number             20050 non-null  int64  \n",
            " 9   gender_gold            50 non-null     object \n",
            " 10  link_color             20050 non-null  object \n",
            " 11  profile_yn_gold        50 non-null     object \n",
            " 12  retweet_count          20050 non-null  int64  \n",
            " 13  sidebar_color          20050 non-null  object \n",
            " 14  text                   20050 non-null  object \n",
            " 15  tweet_count            20050 non-null  int64  \n",
            "dtypes: bool(1), float64(2), int64(4), object(9)\n",
            "memory usage: 2.3+ MB\n"
          ]
        }
      ],
      "source": [
        "# Load dataset\n",
        "from google.colab import drive\n",
        "drive.mount('/content/drive')\n",
        "data = pd.read_csv(\"/content/drive/MyDrive/gender_dataset.csv\", encoding='latin-1')\n",
        "#data = pd.read_csv('gender_dataset.csv', encoding='latin-1')\n",
        "\n",
        "# Drop unnecessary columns/features\n",
        "data.drop (columns = ['_unit_id',\n",
        "                      '_last_judgment_at',\n",
        "                      'user_timezone',\n",
        "                      'tweet_coord',\n",
        "                      'tweet_created',\n",
        "                      'tweet_id',\n",
        "                      'tweet_location',\n",
        "                      'profileimage',\n",
        "                      'created',\n",
        "                      'name'], inplace = True)\n",
        "\n",
        "data.info()"
      ]
    },
    {
      "cell_type": "code",
      "execution_count": 5,
      "metadata": {
        "colab": {
          "base_uri": "https://localhost:8080/",
          "height": 424
        },
        "id": "uKY1OR7Jj_-c",
        "outputId": "e6506019-3b77-40a6-a158-131642efc0ab"
      },
      "outputs": [
        {
          "output_type": "execute_result",
          "data": {
            "text/plain": [
              "   _golden _unit_state  _trusted_judgments gender  gender:confidence  \\\n",
              "0    False   finalized                   3   male             1.0000   \n",
              "1    False   finalized                   3   male             1.0000   \n",
              "2    False   finalized                   3   male             0.6625   \n",
              "\n",
              "  profile_yn  profile_yn:confidence  \\\n",
              "0        yes                    1.0   \n",
              "1        yes                    1.0   \n",
              "2        yes                    1.0   \n",
              "\n",
              "                                         description  fav_number gender_gold  \\\n",
              "0                              i sing my own rhythm.           0         NaN   \n",
              "1  I'm the author of novels filled with family dr...          68         NaN   \n",
              "2                louis whining and squealing and all        7696         NaN   \n",
              "\n",
              "  link_color profile_yn_gold  retweet_count sidebar_color  \\\n",
              "0     08C2C2             NaN              0        FFFFFF   \n",
              "1     0084B4             NaN              0        C0DEED   \n",
              "2     ABB8C2             NaN              1        C0DEED   \n",
              "\n",
              "                                                text  tweet_count  \n",
              "0  Robbie E Responds To Critics After Win Against...       110964  \n",
              "1  ÛÏIt felt like they were my friends and I was...         7471  \n",
              "2  i absolutely adore when louis starts the songs...         5617  "
            ],
            "text/html": [
              "\n",
              "  <div id=\"df-eca33795-283e-41db-a416-79adab89d9bb\" class=\"colab-df-container\">\n",
              "    <div>\n",
              "<style scoped>\n",
              "    .dataframe tbody tr th:only-of-type {\n",
              "        vertical-align: middle;\n",
              "    }\n",
              "\n",
              "    .dataframe tbody tr th {\n",
              "        vertical-align: top;\n",
              "    }\n",
              "\n",
              "    .dataframe thead th {\n",
              "        text-align: right;\n",
              "    }\n",
              "</style>\n",
              "<table border=\"1\" class=\"dataframe\">\n",
              "  <thead>\n",
              "    <tr style=\"text-align: right;\">\n",
              "      <th></th>\n",
              "      <th>_golden</th>\n",
              "      <th>_unit_state</th>\n",
              "      <th>_trusted_judgments</th>\n",
              "      <th>gender</th>\n",
              "      <th>gender:confidence</th>\n",
              "      <th>profile_yn</th>\n",
              "      <th>profile_yn:confidence</th>\n",
              "      <th>description</th>\n",
              "      <th>fav_number</th>\n",
              "      <th>gender_gold</th>\n",
              "      <th>link_color</th>\n",
              "      <th>profile_yn_gold</th>\n",
              "      <th>retweet_count</th>\n",
              "      <th>sidebar_color</th>\n",
              "      <th>text</th>\n",
              "      <th>tweet_count</th>\n",
              "    </tr>\n",
              "  </thead>\n",
              "  <tbody>\n",
              "    <tr>\n",
              "      <th>0</th>\n",
              "      <td>False</td>\n",
              "      <td>finalized</td>\n",
              "      <td>3</td>\n",
              "      <td>male</td>\n",
              "      <td>1.0000</td>\n",
              "      <td>yes</td>\n",
              "      <td>1.0</td>\n",
              "      <td>i sing my own rhythm.</td>\n",
              "      <td>0</td>\n",
              "      <td>NaN</td>\n",
              "      <td>08C2C2</td>\n",
              "      <td>NaN</td>\n",
              "      <td>0</td>\n",
              "      <td>FFFFFF</td>\n",
              "      <td>Robbie E Responds To Critics After Win Against...</td>\n",
              "      <td>110964</td>\n",
              "    </tr>\n",
              "    <tr>\n",
              "      <th>1</th>\n",
              "      <td>False</td>\n",
              "      <td>finalized</td>\n",
              "      <td>3</td>\n",
              "      <td>male</td>\n",
              "      <td>1.0000</td>\n",
              "      <td>yes</td>\n",
              "      <td>1.0</td>\n",
              "      <td>I'm the author of novels filled with family dr...</td>\n",
              "      <td>68</td>\n",
              "      <td>NaN</td>\n",
              "      <td>0084B4</td>\n",
              "      <td>NaN</td>\n",
              "      <td>0</td>\n",
              "      <td>C0DEED</td>\n",
              "      <td>ÛÏIt felt like they were my friends and I was...</td>\n",
              "      <td>7471</td>\n",
              "    </tr>\n",
              "    <tr>\n",
              "      <th>2</th>\n",
              "      <td>False</td>\n",
              "      <td>finalized</td>\n",
              "      <td>3</td>\n",
              "      <td>male</td>\n",
              "      <td>0.6625</td>\n",
              "      <td>yes</td>\n",
              "      <td>1.0</td>\n",
              "      <td>louis whining and squealing and all</td>\n",
              "      <td>7696</td>\n",
              "      <td>NaN</td>\n",
              "      <td>ABB8C2</td>\n",
              "      <td>NaN</td>\n",
              "      <td>1</td>\n",
              "      <td>C0DEED</td>\n",
              "      <td>i absolutely adore when louis starts the songs...</td>\n",
              "      <td>5617</td>\n",
              "    </tr>\n",
              "  </tbody>\n",
              "</table>\n",
              "</div>\n",
              "    <div class=\"colab-df-buttons\">\n",
              "\n",
              "  <div class=\"colab-df-container\">\n",
              "    <button class=\"colab-df-convert\" onclick=\"convertToInteractive('df-eca33795-283e-41db-a416-79adab89d9bb')\"\n",
              "            title=\"Convert this dataframe to an interactive table.\"\n",
              "            style=\"display:none;\">\n",
              "\n",
              "  <svg xmlns=\"http://www.w3.org/2000/svg\" height=\"24px\" viewBox=\"0 -960 960 960\">\n",
              "    <path d=\"M120-120v-720h720v720H120Zm60-500h600v-160H180v160Zm220 220h160v-160H400v160Zm0 220h160v-160H400v160ZM180-400h160v-160H180v160Zm440 0h160v-160H620v160ZM180-180h160v-160H180v160Zm440 0h160v-160H620v160Z\"/>\n",
              "  </svg>\n",
              "    </button>\n",
              "\n",
              "  <style>\n",
              "    .colab-df-container {\n",
              "      display:flex;\n",
              "      gap: 12px;\n",
              "    }\n",
              "\n",
              "    .colab-df-convert {\n",
              "      background-color: #E8F0FE;\n",
              "      border: none;\n",
              "      border-radius: 50%;\n",
              "      cursor: pointer;\n",
              "      display: none;\n",
              "      fill: #1967D2;\n",
              "      height: 32px;\n",
              "      padding: 0 0 0 0;\n",
              "      width: 32px;\n",
              "    }\n",
              "\n",
              "    .colab-df-convert:hover {\n",
              "      background-color: #E2EBFA;\n",
              "      box-shadow: 0px 1px 2px rgba(60, 64, 67, 0.3), 0px 1px 3px 1px rgba(60, 64, 67, 0.15);\n",
              "      fill: #174EA6;\n",
              "    }\n",
              "\n",
              "    .colab-df-buttons div {\n",
              "      margin-bottom: 4px;\n",
              "    }\n",
              "\n",
              "    [theme=dark] .colab-df-convert {\n",
              "      background-color: #3B4455;\n",
              "      fill: #D2E3FC;\n",
              "    }\n",
              "\n",
              "    [theme=dark] .colab-df-convert:hover {\n",
              "      background-color: #434B5C;\n",
              "      box-shadow: 0px 1px 3px 1px rgba(0, 0, 0, 0.15);\n",
              "      filter: drop-shadow(0px 1px 2px rgba(0, 0, 0, 0.3));\n",
              "      fill: #FFFFFF;\n",
              "    }\n",
              "  </style>\n",
              "\n",
              "    <script>\n",
              "      const buttonEl =\n",
              "        document.querySelector('#df-eca33795-283e-41db-a416-79adab89d9bb button.colab-df-convert');\n",
              "      buttonEl.style.display =\n",
              "        google.colab.kernel.accessAllowed ? 'block' : 'none';\n",
              "\n",
              "      async function convertToInteractive(key) {\n",
              "        const element = document.querySelector('#df-eca33795-283e-41db-a416-79adab89d9bb');\n",
              "        const dataTable =\n",
              "          await google.colab.kernel.invokeFunction('convertToInteractive',\n",
              "                                                    [key], {});\n",
              "        if (!dataTable) return;\n",
              "\n",
              "        const docLinkHtml = 'Like what you see? Visit the ' +\n",
              "          '<a target=\"_blank\" href=https://colab.research.google.com/notebooks/data_table.ipynb>data table notebook</a>'\n",
              "          + ' to learn more about interactive tables.';\n",
              "        element.innerHTML = '';\n",
              "        dataTable['output_type'] = 'display_data';\n",
              "        await google.colab.output.renderOutput(dataTable, element);\n",
              "        const docLink = document.createElement('div');\n",
              "        docLink.innerHTML = docLinkHtml;\n",
              "        element.appendChild(docLink);\n",
              "      }\n",
              "    </script>\n",
              "  </div>\n",
              "\n",
              "\n",
              "<div id=\"df-1d6337c8-ba43-49a4-81f1-9608a2dd94c9\">\n",
              "  <button class=\"colab-df-quickchart\" onclick=\"quickchart('df-1d6337c8-ba43-49a4-81f1-9608a2dd94c9')\"\n",
              "            title=\"Suggest charts.\"\n",
              "            style=\"display:none;\">\n",
              "\n",
              "<svg xmlns=\"http://www.w3.org/2000/svg\" height=\"24px\"viewBox=\"0 0 24 24\"\n",
              "     width=\"24px\">\n",
              "    <g>\n",
              "        <path d=\"M19 3H5c-1.1 0-2 .9-2 2v14c0 1.1.9 2 2 2h14c1.1 0 2-.9 2-2V5c0-1.1-.9-2-2-2zM9 17H7v-7h2v7zm4 0h-2V7h2v10zm4 0h-2v-4h2v4z\"/>\n",
              "    </g>\n",
              "</svg>\n",
              "  </button>\n",
              "\n",
              "<style>\n",
              "  .colab-df-quickchart {\n",
              "      --bg-color: #E8F0FE;\n",
              "      --fill-color: #1967D2;\n",
              "      --hover-bg-color: #E2EBFA;\n",
              "      --hover-fill-color: #174EA6;\n",
              "      --disabled-fill-color: #AAA;\n",
              "      --disabled-bg-color: #DDD;\n",
              "  }\n",
              "\n",
              "  [theme=dark] .colab-df-quickchart {\n",
              "      --bg-color: #3B4455;\n",
              "      --fill-color: #D2E3FC;\n",
              "      --hover-bg-color: #434B5C;\n",
              "      --hover-fill-color: #FFFFFF;\n",
              "      --disabled-bg-color: #3B4455;\n",
              "      --disabled-fill-color: #666;\n",
              "  }\n",
              "\n",
              "  .colab-df-quickchart {\n",
              "    background-color: var(--bg-color);\n",
              "    border: none;\n",
              "    border-radius: 50%;\n",
              "    cursor: pointer;\n",
              "    display: none;\n",
              "    fill: var(--fill-color);\n",
              "    height: 32px;\n",
              "    padding: 0;\n",
              "    width: 32px;\n",
              "  }\n",
              "\n",
              "  .colab-df-quickchart:hover {\n",
              "    background-color: var(--hover-bg-color);\n",
              "    box-shadow: 0 1px 2px rgba(60, 64, 67, 0.3), 0 1px 3px 1px rgba(60, 64, 67, 0.15);\n",
              "    fill: var(--button-hover-fill-color);\n",
              "  }\n",
              "\n",
              "  .colab-df-quickchart-complete:disabled,\n",
              "  .colab-df-quickchart-complete:disabled:hover {\n",
              "    background-color: var(--disabled-bg-color);\n",
              "    fill: var(--disabled-fill-color);\n",
              "    box-shadow: none;\n",
              "  }\n",
              "\n",
              "  .colab-df-spinner {\n",
              "    border: 2px solid var(--fill-color);\n",
              "    border-color: transparent;\n",
              "    border-bottom-color: var(--fill-color);\n",
              "    animation:\n",
              "      spin 1s steps(1) infinite;\n",
              "  }\n",
              "\n",
              "  @keyframes spin {\n",
              "    0% {\n",
              "      border-color: transparent;\n",
              "      border-bottom-color: var(--fill-color);\n",
              "      border-left-color: var(--fill-color);\n",
              "    }\n",
              "    20% {\n",
              "      border-color: transparent;\n",
              "      border-left-color: var(--fill-color);\n",
              "      border-top-color: var(--fill-color);\n",
              "    }\n",
              "    30% {\n",
              "      border-color: transparent;\n",
              "      border-left-color: var(--fill-color);\n",
              "      border-top-color: var(--fill-color);\n",
              "      border-right-color: var(--fill-color);\n",
              "    }\n",
              "    40% {\n",
              "      border-color: transparent;\n",
              "      border-right-color: var(--fill-color);\n",
              "      border-top-color: var(--fill-color);\n",
              "    }\n",
              "    60% {\n",
              "      border-color: transparent;\n",
              "      border-right-color: var(--fill-color);\n",
              "    }\n",
              "    80% {\n",
              "      border-color: transparent;\n",
              "      border-right-color: var(--fill-color);\n",
              "      border-bottom-color: var(--fill-color);\n",
              "    }\n",
              "    90% {\n",
              "      border-color: transparent;\n",
              "      border-bottom-color: var(--fill-color);\n",
              "    }\n",
              "  }\n",
              "</style>\n",
              "\n",
              "  <script>\n",
              "    async function quickchart(key) {\n",
              "      const quickchartButtonEl =\n",
              "        document.querySelector('#' + key + ' button');\n",
              "      quickchartButtonEl.disabled = true;  // To prevent multiple clicks.\n",
              "      quickchartButtonEl.classList.add('colab-df-spinner');\n",
              "      try {\n",
              "        const charts = await google.colab.kernel.invokeFunction(\n",
              "            'suggestCharts', [key], {});\n",
              "      } catch (error) {\n",
              "        console.error('Error during call to suggestCharts:', error);\n",
              "      }\n",
              "      quickchartButtonEl.classList.remove('colab-df-spinner');\n",
              "      quickchartButtonEl.classList.add('colab-df-quickchart-complete');\n",
              "    }\n",
              "    (() => {\n",
              "      let quickchartButtonEl =\n",
              "        document.querySelector('#df-1d6337c8-ba43-49a4-81f1-9608a2dd94c9 button');\n",
              "      quickchartButtonEl.style.display =\n",
              "        google.colab.kernel.accessAllowed ? 'block' : 'none';\n",
              "    })();\n",
              "  </script>\n",
              "</div>\n",
              "    </div>\n",
              "  </div>\n"
            ]
          },
          "metadata": {},
          "execution_count": 5
        }
      ],
      "source": [
        "data.head(3)"
      ]
    },
    {
      "cell_type": "code",
      "execution_count": 6,
      "metadata": {
        "colab": {
          "base_uri": "https://localhost:8080/",
          "height": 300
        },
        "id": "cPMGFkadj_-c",
        "outputId": "ccc695b6-aec8-4f1b-c885-f0a72822fb89"
      },
      "outputs": [
        {
          "output_type": "execute_result",
          "data": {
            "text/plain": [
              "       _trusted_judgments  gender:confidence  profile_yn:confidence  \\\n",
              "count        20050.000000       20024.000000           20050.000000   \n",
              "mean             3.615711           0.882756               0.993221   \n",
              "std             12.331890           0.191403               0.047168   \n",
              "min              3.000000           0.000000               0.627200   \n",
              "25%              3.000000           0.677800               1.000000   \n",
              "50%              3.000000           1.000000               1.000000   \n",
              "75%              3.000000           1.000000               1.000000   \n",
              "max            274.000000           1.000000               1.000000   \n",
              "\n",
              "          fav_number  retweet_count   tweet_count  \n",
              "count   20050.000000   20050.000000  2.005000e+04  \n",
              "mean     4382.201646       0.079401  3.892469e+04  \n",
              "std     12518.575919       2.649751  1.168371e+05  \n",
              "min         0.000000       0.000000  1.000000e+00  \n",
              "25%        11.000000       0.000000  2.398000e+03  \n",
              "50%       456.000000       0.000000  1.144150e+04  \n",
              "75%      3315.500000       0.000000  4.002750e+04  \n",
              "max    341621.000000     330.000000  2.680199e+06  "
            ],
            "text/html": [
              "\n",
              "  <div id=\"df-c5e8e0fe-3a5f-46ec-b827-106e3d6e994e\" class=\"colab-df-container\">\n",
              "    <div>\n",
              "<style scoped>\n",
              "    .dataframe tbody tr th:only-of-type {\n",
              "        vertical-align: middle;\n",
              "    }\n",
              "\n",
              "    .dataframe tbody tr th {\n",
              "        vertical-align: top;\n",
              "    }\n",
              "\n",
              "    .dataframe thead th {\n",
              "        text-align: right;\n",
              "    }\n",
              "</style>\n",
              "<table border=\"1\" class=\"dataframe\">\n",
              "  <thead>\n",
              "    <tr style=\"text-align: right;\">\n",
              "      <th></th>\n",
              "      <th>_trusted_judgments</th>\n",
              "      <th>gender:confidence</th>\n",
              "      <th>profile_yn:confidence</th>\n",
              "      <th>fav_number</th>\n",
              "      <th>retweet_count</th>\n",
              "      <th>tweet_count</th>\n",
              "    </tr>\n",
              "  </thead>\n",
              "  <tbody>\n",
              "    <tr>\n",
              "      <th>count</th>\n",
              "      <td>20050.000000</td>\n",
              "      <td>20024.000000</td>\n",
              "      <td>20050.000000</td>\n",
              "      <td>20050.000000</td>\n",
              "      <td>20050.000000</td>\n",
              "      <td>2.005000e+04</td>\n",
              "    </tr>\n",
              "    <tr>\n",
              "      <th>mean</th>\n",
              "      <td>3.615711</td>\n",
              "      <td>0.882756</td>\n",
              "      <td>0.993221</td>\n",
              "      <td>4382.201646</td>\n",
              "      <td>0.079401</td>\n",
              "      <td>3.892469e+04</td>\n",
              "    </tr>\n",
              "    <tr>\n",
              "      <th>std</th>\n",
              "      <td>12.331890</td>\n",
              "      <td>0.191403</td>\n",
              "      <td>0.047168</td>\n",
              "      <td>12518.575919</td>\n",
              "      <td>2.649751</td>\n",
              "      <td>1.168371e+05</td>\n",
              "    </tr>\n",
              "    <tr>\n",
              "      <th>min</th>\n",
              "      <td>3.000000</td>\n",
              "      <td>0.000000</td>\n",
              "      <td>0.627200</td>\n",
              "      <td>0.000000</td>\n",
              "      <td>0.000000</td>\n",
              "      <td>1.000000e+00</td>\n",
              "    </tr>\n",
              "    <tr>\n",
              "      <th>25%</th>\n",
              "      <td>3.000000</td>\n",
              "      <td>0.677800</td>\n",
              "      <td>1.000000</td>\n",
              "      <td>11.000000</td>\n",
              "      <td>0.000000</td>\n",
              "      <td>2.398000e+03</td>\n",
              "    </tr>\n",
              "    <tr>\n",
              "      <th>50%</th>\n",
              "      <td>3.000000</td>\n",
              "      <td>1.000000</td>\n",
              "      <td>1.000000</td>\n",
              "      <td>456.000000</td>\n",
              "      <td>0.000000</td>\n",
              "      <td>1.144150e+04</td>\n",
              "    </tr>\n",
              "    <tr>\n",
              "      <th>75%</th>\n",
              "      <td>3.000000</td>\n",
              "      <td>1.000000</td>\n",
              "      <td>1.000000</td>\n",
              "      <td>3315.500000</td>\n",
              "      <td>0.000000</td>\n",
              "      <td>4.002750e+04</td>\n",
              "    </tr>\n",
              "    <tr>\n",
              "      <th>max</th>\n",
              "      <td>274.000000</td>\n",
              "      <td>1.000000</td>\n",
              "      <td>1.000000</td>\n",
              "      <td>341621.000000</td>\n",
              "      <td>330.000000</td>\n",
              "      <td>2.680199e+06</td>\n",
              "    </tr>\n",
              "  </tbody>\n",
              "</table>\n",
              "</div>\n",
              "    <div class=\"colab-df-buttons\">\n",
              "\n",
              "  <div class=\"colab-df-container\">\n",
              "    <button class=\"colab-df-convert\" onclick=\"convertToInteractive('df-c5e8e0fe-3a5f-46ec-b827-106e3d6e994e')\"\n",
              "            title=\"Convert this dataframe to an interactive table.\"\n",
              "            style=\"display:none;\">\n",
              "\n",
              "  <svg xmlns=\"http://www.w3.org/2000/svg\" height=\"24px\" viewBox=\"0 -960 960 960\">\n",
              "    <path d=\"M120-120v-720h720v720H120Zm60-500h600v-160H180v160Zm220 220h160v-160H400v160Zm0 220h160v-160H400v160ZM180-400h160v-160H180v160Zm440 0h160v-160H620v160ZM180-180h160v-160H180v160Zm440 0h160v-160H620v160Z\"/>\n",
              "  </svg>\n",
              "    </button>\n",
              "\n",
              "  <style>\n",
              "    .colab-df-container {\n",
              "      display:flex;\n",
              "      gap: 12px;\n",
              "    }\n",
              "\n",
              "    .colab-df-convert {\n",
              "      background-color: #E8F0FE;\n",
              "      border: none;\n",
              "      border-radius: 50%;\n",
              "      cursor: pointer;\n",
              "      display: none;\n",
              "      fill: #1967D2;\n",
              "      height: 32px;\n",
              "      padding: 0 0 0 0;\n",
              "      width: 32px;\n",
              "    }\n",
              "\n",
              "    .colab-df-convert:hover {\n",
              "      background-color: #E2EBFA;\n",
              "      box-shadow: 0px 1px 2px rgba(60, 64, 67, 0.3), 0px 1px 3px 1px rgba(60, 64, 67, 0.15);\n",
              "      fill: #174EA6;\n",
              "    }\n",
              "\n",
              "    .colab-df-buttons div {\n",
              "      margin-bottom: 4px;\n",
              "    }\n",
              "\n",
              "    [theme=dark] .colab-df-convert {\n",
              "      background-color: #3B4455;\n",
              "      fill: #D2E3FC;\n",
              "    }\n",
              "\n",
              "    [theme=dark] .colab-df-convert:hover {\n",
              "      background-color: #434B5C;\n",
              "      box-shadow: 0px 1px 3px 1px rgba(0, 0, 0, 0.15);\n",
              "      filter: drop-shadow(0px 1px 2px rgba(0, 0, 0, 0.3));\n",
              "      fill: #FFFFFF;\n",
              "    }\n",
              "  </style>\n",
              "\n",
              "    <script>\n",
              "      const buttonEl =\n",
              "        document.querySelector('#df-c5e8e0fe-3a5f-46ec-b827-106e3d6e994e button.colab-df-convert');\n",
              "      buttonEl.style.display =\n",
              "        google.colab.kernel.accessAllowed ? 'block' : 'none';\n",
              "\n",
              "      async function convertToInteractive(key) {\n",
              "        const element = document.querySelector('#df-c5e8e0fe-3a5f-46ec-b827-106e3d6e994e');\n",
              "        const dataTable =\n",
              "          await google.colab.kernel.invokeFunction('convertToInteractive',\n",
              "                                                    [key], {});\n",
              "        if (!dataTable) return;\n",
              "\n",
              "        const docLinkHtml = 'Like what you see? Visit the ' +\n",
              "          '<a target=\"_blank\" href=https://colab.research.google.com/notebooks/data_table.ipynb>data table notebook</a>'\n",
              "          + ' to learn more about interactive tables.';\n",
              "        element.innerHTML = '';\n",
              "        dataTable['output_type'] = 'display_data';\n",
              "        await google.colab.output.renderOutput(dataTable, element);\n",
              "        const docLink = document.createElement('div');\n",
              "        docLink.innerHTML = docLinkHtml;\n",
              "        element.appendChild(docLink);\n",
              "      }\n",
              "    </script>\n",
              "  </div>\n",
              "\n",
              "\n",
              "<div id=\"df-b91acc75-7fa6-48c3-8ea0-4182859712de\">\n",
              "  <button class=\"colab-df-quickchart\" onclick=\"quickchart('df-b91acc75-7fa6-48c3-8ea0-4182859712de')\"\n",
              "            title=\"Suggest charts.\"\n",
              "            style=\"display:none;\">\n",
              "\n",
              "<svg xmlns=\"http://www.w3.org/2000/svg\" height=\"24px\"viewBox=\"0 0 24 24\"\n",
              "     width=\"24px\">\n",
              "    <g>\n",
              "        <path d=\"M19 3H5c-1.1 0-2 .9-2 2v14c0 1.1.9 2 2 2h14c1.1 0 2-.9 2-2V5c0-1.1-.9-2-2-2zM9 17H7v-7h2v7zm4 0h-2V7h2v10zm4 0h-2v-4h2v4z\"/>\n",
              "    </g>\n",
              "</svg>\n",
              "  </button>\n",
              "\n",
              "<style>\n",
              "  .colab-df-quickchart {\n",
              "      --bg-color: #E8F0FE;\n",
              "      --fill-color: #1967D2;\n",
              "      --hover-bg-color: #E2EBFA;\n",
              "      --hover-fill-color: #174EA6;\n",
              "      --disabled-fill-color: #AAA;\n",
              "      --disabled-bg-color: #DDD;\n",
              "  }\n",
              "\n",
              "  [theme=dark] .colab-df-quickchart {\n",
              "      --bg-color: #3B4455;\n",
              "      --fill-color: #D2E3FC;\n",
              "      --hover-bg-color: #434B5C;\n",
              "      --hover-fill-color: #FFFFFF;\n",
              "      --disabled-bg-color: #3B4455;\n",
              "      --disabled-fill-color: #666;\n",
              "  }\n",
              "\n",
              "  .colab-df-quickchart {\n",
              "    background-color: var(--bg-color);\n",
              "    border: none;\n",
              "    border-radius: 50%;\n",
              "    cursor: pointer;\n",
              "    display: none;\n",
              "    fill: var(--fill-color);\n",
              "    height: 32px;\n",
              "    padding: 0;\n",
              "    width: 32px;\n",
              "  }\n",
              "\n",
              "  .colab-df-quickchart:hover {\n",
              "    background-color: var(--hover-bg-color);\n",
              "    box-shadow: 0 1px 2px rgba(60, 64, 67, 0.3), 0 1px 3px 1px rgba(60, 64, 67, 0.15);\n",
              "    fill: var(--button-hover-fill-color);\n",
              "  }\n",
              "\n",
              "  .colab-df-quickchart-complete:disabled,\n",
              "  .colab-df-quickchart-complete:disabled:hover {\n",
              "    background-color: var(--disabled-bg-color);\n",
              "    fill: var(--disabled-fill-color);\n",
              "    box-shadow: none;\n",
              "  }\n",
              "\n",
              "  .colab-df-spinner {\n",
              "    border: 2px solid var(--fill-color);\n",
              "    border-color: transparent;\n",
              "    border-bottom-color: var(--fill-color);\n",
              "    animation:\n",
              "      spin 1s steps(1) infinite;\n",
              "  }\n",
              "\n",
              "  @keyframes spin {\n",
              "    0% {\n",
              "      border-color: transparent;\n",
              "      border-bottom-color: var(--fill-color);\n",
              "      border-left-color: var(--fill-color);\n",
              "    }\n",
              "    20% {\n",
              "      border-color: transparent;\n",
              "      border-left-color: var(--fill-color);\n",
              "      border-top-color: var(--fill-color);\n",
              "    }\n",
              "    30% {\n",
              "      border-color: transparent;\n",
              "      border-left-color: var(--fill-color);\n",
              "      border-top-color: var(--fill-color);\n",
              "      border-right-color: var(--fill-color);\n",
              "    }\n",
              "    40% {\n",
              "      border-color: transparent;\n",
              "      border-right-color: var(--fill-color);\n",
              "      border-top-color: var(--fill-color);\n",
              "    }\n",
              "    60% {\n",
              "      border-color: transparent;\n",
              "      border-right-color: var(--fill-color);\n",
              "    }\n",
              "    80% {\n",
              "      border-color: transparent;\n",
              "      border-right-color: var(--fill-color);\n",
              "      border-bottom-color: var(--fill-color);\n",
              "    }\n",
              "    90% {\n",
              "      border-color: transparent;\n",
              "      border-bottom-color: var(--fill-color);\n",
              "    }\n",
              "  }\n",
              "</style>\n",
              "\n",
              "  <script>\n",
              "    async function quickchart(key) {\n",
              "      const quickchartButtonEl =\n",
              "        document.querySelector('#' + key + ' button');\n",
              "      quickchartButtonEl.disabled = true;  // To prevent multiple clicks.\n",
              "      quickchartButtonEl.classList.add('colab-df-spinner');\n",
              "      try {\n",
              "        const charts = await google.colab.kernel.invokeFunction(\n",
              "            'suggestCharts', [key], {});\n",
              "      } catch (error) {\n",
              "        console.error('Error during call to suggestCharts:', error);\n",
              "      }\n",
              "      quickchartButtonEl.classList.remove('colab-df-spinner');\n",
              "      quickchartButtonEl.classList.add('colab-df-quickchart-complete');\n",
              "    }\n",
              "    (() => {\n",
              "      let quickchartButtonEl =\n",
              "        document.querySelector('#df-b91acc75-7fa6-48c3-8ea0-4182859712de button');\n",
              "      quickchartButtonEl.style.display =\n",
              "        google.colab.kernel.accessAllowed ? 'block' : 'none';\n",
              "    })();\n",
              "  </script>\n",
              "</div>\n",
              "    </div>\n",
              "  </div>\n"
            ]
          },
          "metadata": {},
          "execution_count": 6
        }
      ],
      "source": [
        "data.describe()"
      ]
    },
    {
      "cell_type": "markdown",
      "metadata": {
        "id": "aYL3y8SOj_-d"
      },
      "source": [
        "## 2. Cleaning Dataset"
      ]
    },
    {
      "cell_type": "markdown",
      "metadata": {
        "id": "DMMfMdFSj_-d"
      },
      "source": [
        "### Target variable: `Gender`"
      ]
    },
    {
      "cell_type": "code",
      "execution_count": 7,
      "metadata": {
        "colab": {
          "base_uri": "https://localhost:8080/"
        },
        "id": "3jXJKHm1j_-d",
        "outputId": "68b035a4-f66e-41b4-cc8c-3ab041581f1b"
      },
      "outputs": [
        {
          "output_type": "execute_result",
          "data": {
            "text/plain": [
              "female     6700\n",
              "male       6194\n",
              "brand      5942\n",
              "unknown    1117\n",
              "Name: gender, dtype: int64"
            ]
          },
          "metadata": {},
          "execution_count": 7
        }
      ],
      "source": [
        "data['gender'].value_counts()"
      ]
    },
    {
      "cell_type": "code",
      "execution_count": 8,
      "metadata": {
        "scrolled": true,
        "colab": {
          "base_uri": "https://localhost:8080/"
        },
        "id": "3woPv30uj_-e",
        "outputId": "193ce9fd-f87f-4043-bba4-83789c53ec39"
      },
      "outputs": [
        {
          "output_type": "execute_result",
          "data": {
            "text/plain": [
              "female    6700\n",
              "male      6194\n",
              "brand     5942\n",
              "Name: gender, dtype: int64"
            ]
          },
          "metadata": {},
          "execution_count": 8
        }
      ],
      "source": [
        "# We can see that there are 1117 unknown genders, so get rid of them\n",
        "unknown_items_idx = data[data['gender'] == 'unknown'].index\n",
        "data.drop (index = unknown_items_idx, inplace = True)\n",
        "data['gender'].value_counts()"
      ]
    },
    {
      "cell_type": "markdown",
      "metadata": {
        "id": "qA5FaKnWj_-e"
      },
      "source": [
        "### 'Profile' Attribute (profile_yn, profile_yn:confidence, profile_yn_gold)\n",
        "**'No'**: Profile was meant to be part of the dataset but was not available when contributors went to judge it."
      ]
    },
    {
      "cell_type": "code",
      "execution_count": 9,
      "metadata": {
        "scrolled": true,
        "colab": {
          "base_uri": "https://localhost:8080/"
        },
        "id": "VizbK9c3j_-e",
        "outputId": "3bd86fe8-0143-4701-c957-c7fdf1734e57"
      },
      "outputs": [
        {
          "output_type": "stream",
          "name": "stdout",
          "text": [
            "Profile_yn information:\n",
            " yes    18836\n",
            "no        97\n",
            "Name: profile_yn, dtype: int64\n",
            "----------------------------------------\n",
            "Number of NaN instances when profile_yn is No:  97\n"
          ]
        }
      ],
      "source": [
        "print('Profile_yn information:\\n',data['profile_yn'].value_counts())\n",
        "print('-'*40)\n",
        "print('Number of NaN instances when profile_yn is No: ', data[data['profile_yn'] == 'no']['gender'].isnull().sum())"
      ]
    },
    {
      "cell_type": "markdown",
      "metadata": {
        "id": "rVVbZTaVj_-f"
      },
      "source": [
        "It is shown that all of 97 instances with **profile_yn** == **no** are all **NaN** in **gender**. Therefore, i get rid of these 97 instances for now.\n",
        "\n",
        "At this point, `profile_yn`  seems not to be informative towards the target. Therefore, i also eliminate **profile_yn**, **profile_yn:confidence** and **profile_yn_gold** as they are not useful anymore."
      ]
    },
    {
      "cell_type": "code",
      "execution_count": 10,
      "metadata": {
        "id": "55vvv6Y7j_-f"
      },
      "outputs": [],
      "source": [
        "drop_items_idx = data[data['profile_yn'] == 'no'].index\n",
        "data.drop (index = drop_items_idx, inplace = True)\n",
        "data.drop (columns = ['profile_yn','profile_yn:confidence','profile_yn_gold'], inplace = True)"
      ]
    },
    {
      "cell_type": "markdown",
      "metadata": {
        "id": "d8KjZND_j_-f"
      },
      "source": [
        "### Low-confidence gender (gender:confidence)\n",
        "\n",
        "I decide to keep only 100% confidence of labeling Gender and get rid of those < 100% confidence."
      ]
    },
    {
      "cell_type": "code",
      "execution_count": 11,
      "metadata": {
        "colab": {
          "base_uri": "https://localhost:8080/"
        },
        "id": "UVXYMFVSj_-f",
        "outputId": "7b12cbf1-64fd-40e1-838c-dc8458247dbc"
      },
      "outputs": [
        {
          "output_type": "stream",
          "name": "stdout",
          "text": [
            "Full data items:  (18836, 13)\n",
            "Data with label-confidence < 100%:  (5032, 13)\n"
          ]
        }
      ],
      "source": [
        "print ('Full data items: ', data.shape)\n",
        "print ('Data with label-confidence < 100%: ', data[data['gender:confidence'] < 1].shape)"
      ]
    },
    {
      "cell_type": "markdown",
      "metadata": {
        "id": "DXxrsCQij_-g"
      },
      "source": [
        "Approximately **26.7%** (5032/18836) of labeled instances were lower 100% of confidence\n",
        "\n",
        "Eliminate those instances and the feature **gender:confidence** as it is not useful anymore."
      ]
    },
    {
      "cell_type": "code",
      "execution_count": 12,
      "metadata": {
        "id": "PjE1xu98j_-g"
      },
      "outputs": [],
      "source": [
        "drop_items_idx = data[data['gender:confidence'] < 1].index\n",
        "data.drop (index = drop_items_idx, inplace = True)\n",
        "data.drop (columns = ['gender:confidence'], inplace = True)"
      ]
    },
    {
      "cell_type": "markdown",
      "metadata": {
        "id": "Kh1ooMFCj_-g"
      },
      "source": [
        "### Getting rid of remaining useless features"
      ]
    },
    {
      "cell_type": "code",
      "execution_count": 13,
      "metadata": {
        "colab": {
          "base_uri": "https://localhost:8080/"
        },
        "id": "i03-xDhAj_-g",
        "outputId": "9f5e8f3c-f79a-4226-c2d0-dc3def4c4187"
      },
      "outputs": [
        {
          "output_type": "stream",
          "name": "stdout",
          "text": [
            "female    5367\n",
            "male      4653\n",
            "brand     3784\n",
            "Name: gender, dtype: int64\n",
            "----------------------------------------\n",
            "<class 'pandas.core.frame.DataFrame'>\n",
            "Int64Index: 13804 entries, 0 to 20049\n",
            "Data columns (total 8 columns):\n",
            " #   Column         Non-Null Count  Dtype \n",
            "---  ------         --------------  ----- \n",
            " 0   gender         13804 non-null  object\n",
            " 1   description    11773 non-null  object\n",
            " 2   fav_number     13804 non-null  int64 \n",
            " 3   link_color     13804 non-null  object\n",
            " 4   retweet_count  13804 non-null  int64 \n",
            " 5   sidebar_color  13804 non-null  object\n",
            " 6   text           13804 non-null  object\n",
            " 7   tweet_count    13804 non-null  int64 \n",
            "dtypes: int64(3), object(5)\n",
            "memory usage: 970.6+ KB\n"
          ]
        }
      ],
      "source": [
        "data.drop (columns = ['_golden','_unit_state','_trusted_judgments','gender_gold'], inplace = True)\n",
        "\n",
        "# Double check the data\n",
        "print (data['gender'].value_counts())\n",
        "print ('-'*40)\n",
        "data.info()"
      ]
    },
    {
      "cell_type": "code",
      "execution_count": 14,
      "metadata": {
        "colab": {
          "base_uri": "https://localhost:8080/",
          "height": 300
        },
        "id": "GSZffOCQj_-h",
        "outputId": "4a082106-a5c3-4ec1-d5e8-9bb51b6f19eb"
      },
      "outputs": [
        {
          "output_type": "execute_result",
          "data": {
            "text/plain": [
              "          fav_number  retweet_count   tweet_count\n",
              "count   13804.000000   13804.000000  1.380400e+04\n",
              "mean     4235.962692       0.068169  3.807311e+04\n",
              "std     12162.666724       1.420828  1.251379e+05\n",
              "min         0.000000       0.000000  1.000000e+00\n",
              "25%        22.000000       0.000000  2.221750e+03\n",
              "50%       530.000000       0.000000  1.009500e+04\n",
              "75%      3374.250000       0.000000  3.714150e+04\n",
              "max    341621.000000     153.000000  2.680199e+06"
            ],
            "text/html": [
              "\n",
              "  <div id=\"df-d4e3c2f6-b238-4a00-a1a7-b180e813ad99\" class=\"colab-df-container\">\n",
              "    <div>\n",
              "<style scoped>\n",
              "    .dataframe tbody tr th:only-of-type {\n",
              "        vertical-align: middle;\n",
              "    }\n",
              "\n",
              "    .dataframe tbody tr th {\n",
              "        vertical-align: top;\n",
              "    }\n",
              "\n",
              "    .dataframe thead th {\n",
              "        text-align: right;\n",
              "    }\n",
              "</style>\n",
              "<table border=\"1\" class=\"dataframe\">\n",
              "  <thead>\n",
              "    <tr style=\"text-align: right;\">\n",
              "      <th></th>\n",
              "      <th>fav_number</th>\n",
              "      <th>retweet_count</th>\n",
              "      <th>tweet_count</th>\n",
              "    </tr>\n",
              "  </thead>\n",
              "  <tbody>\n",
              "    <tr>\n",
              "      <th>count</th>\n",
              "      <td>13804.000000</td>\n",
              "      <td>13804.000000</td>\n",
              "      <td>1.380400e+04</td>\n",
              "    </tr>\n",
              "    <tr>\n",
              "      <th>mean</th>\n",
              "      <td>4235.962692</td>\n",
              "      <td>0.068169</td>\n",
              "      <td>3.807311e+04</td>\n",
              "    </tr>\n",
              "    <tr>\n",
              "      <th>std</th>\n",
              "      <td>12162.666724</td>\n",
              "      <td>1.420828</td>\n",
              "      <td>1.251379e+05</td>\n",
              "    </tr>\n",
              "    <tr>\n",
              "      <th>min</th>\n",
              "      <td>0.000000</td>\n",
              "      <td>0.000000</td>\n",
              "      <td>1.000000e+00</td>\n",
              "    </tr>\n",
              "    <tr>\n",
              "      <th>25%</th>\n",
              "      <td>22.000000</td>\n",
              "      <td>0.000000</td>\n",
              "      <td>2.221750e+03</td>\n",
              "    </tr>\n",
              "    <tr>\n",
              "      <th>50%</th>\n",
              "      <td>530.000000</td>\n",
              "      <td>0.000000</td>\n",
              "      <td>1.009500e+04</td>\n",
              "    </tr>\n",
              "    <tr>\n",
              "      <th>75%</th>\n",
              "      <td>3374.250000</td>\n",
              "      <td>0.000000</td>\n",
              "      <td>3.714150e+04</td>\n",
              "    </tr>\n",
              "    <tr>\n",
              "      <th>max</th>\n",
              "      <td>341621.000000</td>\n",
              "      <td>153.000000</td>\n",
              "      <td>2.680199e+06</td>\n",
              "    </tr>\n",
              "  </tbody>\n",
              "</table>\n",
              "</div>\n",
              "    <div class=\"colab-df-buttons\">\n",
              "\n",
              "  <div class=\"colab-df-container\">\n",
              "    <button class=\"colab-df-convert\" onclick=\"convertToInteractive('df-d4e3c2f6-b238-4a00-a1a7-b180e813ad99')\"\n",
              "            title=\"Convert this dataframe to an interactive table.\"\n",
              "            style=\"display:none;\">\n",
              "\n",
              "  <svg xmlns=\"http://www.w3.org/2000/svg\" height=\"24px\" viewBox=\"0 -960 960 960\">\n",
              "    <path d=\"M120-120v-720h720v720H120Zm60-500h600v-160H180v160Zm220 220h160v-160H400v160Zm0 220h160v-160H400v160ZM180-400h160v-160H180v160Zm440 0h160v-160H620v160ZM180-180h160v-160H180v160Zm440 0h160v-160H620v160Z\"/>\n",
              "  </svg>\n",
              "    </button>\n",
              "\n",
              "  <style>\n",
              "    .colab-df-container {\n",
              "      display:flex;\n",
              "      gap: 12px;\n",
              "    }\n",
              "\n",
              "    .colab-df-convert {\n",
              "      background-color: #E8F0FE;\n",
              "      border: none;\n",
              "      border-radius: 50%;\n",
              "      cursor: pointer;\n",
              "      display: none;\n",
              "      fill: #1967D2;\n",
              "      height: 32px;\n",
              "      padding: 0 0 0 0;\n",
              "      width: 32px;\n",
              "    }\n",
              "\n",
              "    .colab-df-convert:hover {\n",
              "      background-color: #E2EBFA;\n",
              "      box-shadow: 0px 1px 2px rgba(60, 64, 67, 0.3), 0px 1px 3px 1px rgba(60, 64, 67, 0.15);\n",
              "      fill: #174EA6;\n",
              "    }\n",
              "\n",
              "    .colab-df-buttons div {\n",
              "      margin-bottom: 4px;\n",
              "    }\n",
              "\n",
              "    [theme=dark] .colab-df-convert {\n",
              "      background-color: #3B4455;\n",
              "      fill: #D2E3FC;\n",
              "    }\n",
              "\n",
              "    [theme=dark] .colab-df-convert:hover {\n",
              "      background-color: #434B5C;\n",
              "      box-shadow: 0px 1px 3px 1px rgba(0, 0, 0, 0.15);\n",
              "      filter: drop-shadow(0px 1px 2px rgba(0, 0, 0, 0.3));\n",
              "      fill: #FFFFFF;\n",
              "    }\n",
              "  </style>\n",
              "\n",
              "    <script>\n",
              "      const buttonEl =\n",
              "        document.querySelector('#df-d4e3c2f6-b238-4a00-a1a7-b180e813ad99 button.colab-df-convert');\n",
              "      buttonEl.style.display =\n",
              "        google.colab.kernel.accessAllowed ? 'block' : 'none';\n",
              "\n",
              "      async function convertToInteractive(key) {\n",
              "        const element = document.querySelector('#df-d4e3c2f6-b238-4a00-a1a7-b180e813ad99');\n",
              "        const dataTable =\n",
              "          await google.colab.kernel.invokeFunction('convertToInteractive',\n",
              "                                                    [key], {});\n",
              "        if (!dataTable) return;\n",
              "\n",
              "        const docLinkHtml = 'Like what you see? Visit the ' +\n",
              "          '<a target=\"_blank\" href=https://colab.research.google.com/notebooks/data_table.ipynb>data table notebook</a>'\n",
              "          + ' to learn more about interactive tables.';\n",
              "        element.innerHTML = '';\n",
              "        dataTable['output_type'] = 'display_data';\n",
              "        await google.colab.output.renderOutput(dataTable, element);\n",
              "        const docLink = document.createElement('div');\n",
              "        docLink.innerHTML = docLinkHtml;\n",
              "        element.appendChild(docLink);\n",
              "      }\n",
              "    </script>\n",
              "  </div>\n",
              "\n",
              "\n",
              "<div id=\"df-cee9d6c3-f934-4e82-9ac9-3215438015b0\">\n",
              "  <button class=\"colab-df-quickchart\" onclick=\"quickchart('df-cee9d6c3-f934-4e82-9ac9-3215438015b0')\"\n",
              "            title=\"Suggest charts.\"\n",
              "            style=\"display:none;\">\n",
              "\n",
              "<svg xmlns=\"http://www.w3.org/2000/svg\" height=\"24px\"viewBox=\"0 0 24 24\"\n",
              "     width=\"24px\">\n",
              "    <g>\n",
              "        <path d=\"M19 3H5c-1.1 0-2 .9-2 2v14c0 1.1.9 2 2 2h14c1.1 0 2-.9 2-2V5c0-1.1-.9-2-2-2zM9 17H7v-7h2v7zm4 0h-2V7h2v10zm4 0h-2v-4h2v4z\"/>\n",
              "    </g>\n",
              "</svg>\n",
              "  </button>\n",
              "\n",
              "<style>\n",
              "  .colab-df-quickchart {\n",
              "      --bg-color: #E8F0FE;\n",
              "      --fill-color: #1967D2;\n",
              "      --hover-bg-color: #E2EBFA;\n",
              "      --hover-fill-color: #174EA6;\n",
              "      --disabled-fill-color: #AAA;\n",
              "      --disabled-bg-color: #DDD;\n",
              "  }\n",
              "\n",
              "  [theme=dark] .colab-df-quickchart {\n",
              "      --bg-color: #3B4455;\n",
              "      --fill-color: #D2E3FC;\n",
              "      --hover-bg-color: #434B5C;\n",
              "      --hover-fill-color: #FFFFFF;\n",
              "      --disabled-bg-color: #3B4455;\n",
              "      --disabled-fill-color: #666;\n",
              "  }\n",
              "\n",
              "  .colab-df-quickchart {\n",
              "    background-color: var(--bg-color);\n",
              "    border: none;\n",
              "    border-radius: 50%;\n",
              "    cursor: pointer;\n",
              "    display: none;\n",
              "    fill: var(--fill-color);\n",
              "    height: 32px;\n",
              "    padding: 0;\n",
              "    width: 32px;\n",
              "  }\n",
              "\n",
              "  .colab-df-quickchart:hover {\n",
              "    background-color: var(--hover-bg-color);\n",
              "    box-shadow: 0 1px 2px rgba(60, 64, 67, 0.3), 0 1px 3px 1px rgba(60, 64, 67, 0.15);\n",
              "    fill: var(--button-hover-fill-color);\n",
              "  }\n",
              "\n",
              "  .colab-df-quickchart-complete:disabled,\n",
              "  .colab-df-quickchart-complete:disabled:hover {\n",
              "    background-color: var(--disabled-bg-color);\n",
              "    fill: var(--disabled-fill-color);\n",
              "    box-shadow: none;\n",
              "  }\n",
              "\n",
              "  .colab-df-spinner {\n",
              "    border: 2px solid var(--fill-color);\n",
              "    border-color: transparent;\n",
              "    border-bottom-color: var(--fill-color);\n",
              "    animation:\n",
              "      spin 1s steps(1) infinite;\n",
              "  }\n",
              "\n",
              "  @keyframes spin {\n",
              "    0% {\n",
              "      border-color: transparent;\n",
              "      border-bottom-color: var(--fill-color);\n",
              "      border-left-color: var(--fill-color);\n",
              "    }\n",
              "    20% {\n",
              "      border-color: transparent;\n",
              "      border-left-color: var(--fill-color);\n",
              "      border-top-color: var(--fill-color);\n",
              "    }\n",
              "    30% {\n",
              "      border-color: transparent;\n",
              "      border-left-color: var(--fill-color);\n",
              "      border-top-color: var(--fill-color);\n",
              "      border-right-color: var(--fill-color);\n",
              "    }\n",
              "    40% {\n",
              "      border-color: transparent;\n",
              "      border-right-color: var(--fill-color);\n",
              "      border-top-color: var(--fill-color);\n",
              "    }\n",
              "    60% {\n",
              "      border-color: transparent;\n",
              "      border-right-color: var(--fill-color);\n",
              "    }\n",
              "    80% {\n",
              "      border-color: transparent;\n",
              "      border-right-color: var(--fill-color);\n",
              "      border-bottom-color: var(--fill-color);\n",
              "    }\n",
              "    90% {\n",
              "      border-color: transparent;\n",
              "      border-bottom-color: var(--fill-color);\n",
              "    }\n",
              "  }\n",
              "</style>\n",
              "\n",
              "  <script>\n",
              "    async function quickchart(key) {\n",
              "      const quickchartButtonEl =\n",
              "        document.querySelector('#' + key + ' button');\n",
              "      quickchartButtonEl.disabled = true;  // To prevent multiple clicks.\n",
              "      quickchartButtonEl.classList.add('colab-df-spinner');\n",
              "      try {\n",
              "        const charts = await google.colab.kernel.invokeFunction(\n",
              "            'suggestCharts', [key], {});\n",
              "      } catch (error) {\n",
              "        console.error('Error during call to suggestCharts:', error);\n",
              "      }\n",
              "      quickchartButtonEl.classList.remove('colab-df-spinner');\n",
              "      quickchartButtonEl.classList.add('colab-df-quickchart-complete');\n",
              "    }\n",
              "    (() => {\n",
              "      let quickchartButtonEl =\n",
              "        document.querySelector('#df-cee9d6c3-f934-4e82-9ac9-3215438015b0 button');\n",
              "      quickchartButtonEl.style.display =\n",
              "        google.colab.kernel.accessAllowed ? 'block' : 'none';\n",
              "    })();\n",
              "  </script>\n",
              "</div>\n",
              "    </div>\n",
              "  </div>\n"
            ]
          },
          "metadata": {},
          "execution_count": 14
        }
      ],
      "source": [
        "data.describe()"
      ]
    },
    {
      "cell_type": "markdown",
      "metadata": {
        "id": "GY0rYaIYj_-i"
      },
      "source": [
        "### Cleaning Textual Data"
      ]
    },
    {
      "cell_type": "code",
      "execution_count": 15,
      "metadata": {
        "id": "K7CeP7PCj_-i"
      },
      "outputs": [],
      "source": [
        "stop = stopwords.words('english')\n",
        "porter = PorterStemmer()\n",
        "\n",
        "def preprocessor(text):\n",
        "    \"\"\"\n",
        "    Return a cleaned version of text, but keeping the emoticons\n",
        "    \"\"\"\n",
        "    # Remove HTML markup\n",
        "    text = re.sub('<[^>]*>', '', text)\n",
        "    # Remove url tokens\n",
        "    text = re.sub('http.*', ' ', text)\n",
        "    # Save emoticons for later appending\n",
        "    emoticons = re.findall('(?::|;|=)(?:-)?(?:\\)|\\(|D|P)', text)\n",
        "    # Remove any non-alphanumeric character and append the emoticons,\n",
        "    # removing the nose character of emoji for standarization. Convert to lower case\n",
        "    text = re.sub('[^a-zA-Z0-9]+', ' ', text.lower()) + ' ' + ' '.join(emoticons).replace('-', '')\n",
        "\n",
        "    return text\n",
        "\n",
        "def remove_dup_whitespace(text):\n",
        "    \"\"\"\n",
        "    This function removes duplicated whitespaces of a string\n",
        "    \"\"\"\n",
        "    return re.sub('\\s{2,}', ' ',text)\n",
        "\n",
        "def tokenizer_porter(text):\n",
        "    \"\"\"\n",
        "    This function tokenize and also perform stemming\n",
        "    \"\"\"\n",
        "    return [porter.stem(word) for word in text.lower().split()]\n",
        "\n",
        "def clean_tweet(text):\n",
        "    \"\"\"\n",
        "    This function tokenizes whole tweet into tokens,\n",
        "    Then clean it, remove stopwords and combine back as a tweet.\n",
        "\n",
        "    In other words, this function combines all 3 above functions\n",
        "    \"\"\"\n",
        "    clean = \"\"\n",
        "    tokens = tokenizer_porter(text)\n",
        "    for token in tokens:\n",
        "        if len(token)> 1:\n",
        "            if token not in stop:\n",
        "                clean += preprocessor(token)\n",
        "    return remove_dup_whitespace(clean)"
      ]
    },
    {
      "cell_type": "markdown",
      "metadata": {
        "id": "B32kGlcnj_-j"
      },
      "source": [
        "#### Hanlding missing values of `description`"
      ]
    },
    {
      "cell_type": "code",
      "execution_count": 16,
      "metadata": {
        "id": "IEYS7MDuj_-j"
      },
      "outputs": [],
      "source": [
        "def has_nan(X):\n",
        "    '''\n",
        "    Input: Dataframe\n",
        "    This func check if the features of a DataFrame has missing values or not\n",
        "    '''\n",
        "    X_ = X.isnull()\n",
        "    X_ = X_.add_suffix('_has_nan')\n",
        "    return X_\n",
        "\n",
        "has_nan_df = has_nan(data[['description']])\n",
        "data = pd.concat([data, has_nan_df], axis=1)\n",
        "\n",
        "# Fill NaN with empty strings\n",
        "data['description'].fillna(\"\", inplace=True)"
      ]
    },
    {
      "cell_type": "code",
      "execution_count": 17,
      "metadata": {
        "id": "EE1dvwoQj_-k"
      },
      "outputs": [],
      "source": [
        "data[['text','description']] = data[['text','description']].applymap(clean_tweet)"
      ]
    },
    {
      "cell_type": "markdown",
      "metadata": {
        "id": "P-l6gmEUj_-k"
      },
      "source": [
        "## 3. Visualizing Data\n",
        "\n",
        "Among text data, i want to find out if other features can give me useful information or show some special characteristics."
      ]
    },
    {
      "cell_type": "markdown",
      "metadata": {
        "id": "cUymxPeoj_-k"
      },
      "source": [
        "### Target"
      ]
    },
    {
      "cell_type": "code",
      "execution_count": 18,
      "metadata": {
        "colab": {
          "base_uri": "https://localhost:8080/",
          "height": 576
        },
        "id": "uABUiJxkj_-k",
        "outputId": "962176d5-d6ad-4f55-b6b4-106f2019163c"
      },
      "outputs": [
        {
          "output_type": "display_data",
          "data": {
            "text/plain": [
              "<Figure size 700x700 with 1 Axes>"
            ],
            "image/png": "[encoded data removed]"
          },
          "metadata": {}
        }
      ],
      "source": [
        "plt.figure(figsize=(7,7))\n",
        "data['gender'].value_counts().plot(kind='pie', autopct='%1.1f%%',\n",
        "                  startangle=90, wedgeprops=dict(width=0.3, edgecolor='w'))\n",
        "plt.show()"
      ]
    },
    {
      "cell_type": "markdown",
      "metadata": {
        "id": "LPNsZDtsj_-k"
      },
      "source": [
        "### `favorites`, `tweets` and `retweets` vs Label"
      ]
    },
    {
      "cell_type": "code",
      "execution_count": 19,
      "metadata": {
        "colab": {
          "base_uri": "https://localhost:8080/",
          "height": 465
        },
        "id": "uZfMThuIj_-l",
        "outputId": "2ad5be08-cfcb-41c1-e67c-200a358b40f9"
      },
      "outputs": [
        {
          "output_type": "display_data",
          "data": {
            "text/plain": [
              "<Figure size 1500x500 with 3 Axes>"
            ],
            "image/png": "[encoded data removed]"
          },
          "metadata": {}
        }
      ],
      "source": [
        "plt.figure(figsize=(15,5))\n",
        "\n",
        "for i,j in enumerate(['fav_number','retweet_count','tweet_count']):\n",
        "    plt.subplot(1,3,i+1)\n",
        "    sns.barplot (x = 'gender', y = j,data = data)\n",
        "\n",
        "plt.show()"
      ]
    },
    {
      "cell_type": "markdown",
      "metadata": {
        "id": "FMUI3KMvj_-l"
      },
      "source": [
        "### Visualize `Color` features"
      ]
    },
    {
      "cell_type": "code",
      "execution_count": 20,
      "metadata": {
        "id": "1ZwS4cKMj_-l"
      },
      "outputs": [],
      "source": [
        "def visualize_color(color_feature, data):\n",
        "    if (color_feature) not in data.columns:\n",
        "        return 'Invalid color feature'\n",
        "\n",
        "    # Clean color map that misses prefix 0s\n",
        "    clean_color_map = lambda x: \"0\"*(6-len(x))+x if len(x)<6 else x\n",
        "\n",
        "    genders = ['male','female','brand']\n",
        "    plt.figure(figsize=(15,5))\n",
        "    for i, j in enumerate(genders):\n",
        "        plt.subplot(1,len(genders),i+1)\n",
        "        plt.gca().set_title(j + '_' + color_feature)\n",
        "        top_color_count = data[data['gender'] == j][color_feature].value_counts().head(7)\n",
        "        top_color = top_color_count.index.values\n",
        "        top_color = list(map(clean_color_map, top_color))\n",
        "        plt.gca().set_facecolor('xkcd:salmon')\n",
        "        sns.barplot (x = top_color_count, y = top_color,\n",
        "                     palette=list(map(lambda x: '#'+x, top_color)))\n",
        "    plt.show()"
      ]
    },
    {
      "cell_type": "code",
      "execution_count": 21,
      "metadata": {
        "colab": {
          "base_uri": "https://localhost:8080/",
          "height": 487
        },
        "id": "0ZHvwOX3j_-l",
        "outputId": "0ffab542-022e-4bfe-a050-2f53d2153fcc"
      },
      "outputs": [
        {
          "output_type": "display_data",
          "data": {
            "text/plain": [
              "<Figure size 1500x500 with 3 Axes>"
            ],
            "image/png": "[encoded data removed]"
          },
          "metadata": {}
        }
      ],
      "source": [
        "visualize_color('sidebar_color', data)"
      ]
    },
    {
      "cell_type": "code",
      "execution_count": 22,
      "metadata": {
        "colab": {
          "base_uri": "https://localhost:8080/",
          "height": 487
        },
        "id": "OC51mrFDj_-l",
        "outputId": "059a757c-7043-4594-832a-7f777400eb04"
      },
      "outputs": [
        {
          "output_type": "display_data",
          "data": {
            "text/plain": [
              "<Figure size 1500x500 with 3 Axes>"
            ],
            "image/png": "[encoded data removed]"
          },
          "metadata": {}
        }
      ],
      "source": [
        "visualize_color('link_color', data)"
      ]
    },
    {
      "cell_type": "markdown",
      "metadata": {
        "id": "niBb9GwFj_-m"
      },
      "source": [
        "For `sidebar color`, the top 3 colors are the same (this seems to be these colors are default theme color of Twitter). It is shown that the number of 2nd and 3rd color of female is larger but this can be explained by the fact that the number of female users are more than male.\n",
        "\n",
        "For `link_color`, except for the most common color, which is the theme color of Twitter, we can see that there are differences for other color preferences between male and female.\n",
        "\n",
        "We can group the most common color map of features `link_color` and `sidebar_color` to `theme_color`, then we can make these 2 features useful for predicting the Gender."
      ]
    },
    {
      "cell_type": "markdown",
      "metadata": {
        "id": "4MPE1K34j_-m"
      },
      "source": [
        "## 4. Classification modeling"
      ]
    },
    {
      "cell_type": "markdown",
      "metadata": {
        "id": "QTrDs4zDj_-m"
      },
      "source": [
        "### 4.1 with Tweet-text only"
      ]
    },
    {
      "cell_type": "markdown",
      "metadata": {
        "id": "5PHBeE2pj_-m"
      },
      "source": [
        "# **#### How relevant are words? Term frequency-inverse document frequency (TF-IDF)**\n",
        "\n",
        "We could use these raw term frequencies to score the words in our algorithm. There is a problem though: If a word is very frequent in _all_ documents, then it probably doesn't carry a lot of information. In order to tacke this problem we can use **term frequency-inverse document frequency**, which will reduce the score the more frequent the word is accross all twits. It is calculated like this:\n",
        "\n",
        "\\begin{equation*}\n",
        "tf-idf(t,d) = tf(t,d) ~ idf(t,d)\n",
        "\\end{equation*}\n",
        "\n",
        "_tf(t,d)_ is the raw term frequency descrived above. _idf(t,d)_ is the inverse document frequency, than can be calculated as follows:\n",
        "\n",
        "\\begin{equation*}\n",
        "\\log \\frac{n_d}{1+df\\left(d,t\\right)}\n",
        "\\end{equation*}\n",
        "\n",
        "where `n` is the total number of documents (number of _twits_ in this problem) and _df(t,d)_ is the number of documents where the term `t` appears.\n",
        "\n",
        "The `1` addition in the denominator is just to avoid zero term for terms that appear in all documents. Ans the `log` ensures that low frequency term don't get too much weight.\n",
        "\n",
        "The IDF (inverse document frequency) of a word is the measure of how significant that term is in the whole corpus (the whole collection of _twits_ in this problem).\n",
        "\n",
        "The higher the TF-IDF weight value, the rarer the term. The smaller the weight, the more common the term."
      ]
    },
    {
      "cell_type": "code",
      "execution_count": 23,
      "metadata": {
        "scrolled": true,
        "colab": {
          "base_uri": "https://localhost:8080/"
        },
        "id": "Qeqgj52Ij_-n",
        "outputId": "84efc507-c0e9-4db1-e83c-dddab34f410d"
      },
      "outputs": [
        {
          "output_type": "execute_result",
          "data": {
            "text/plain": [
              "19087     rvpisarapist player liter give 110 show great...\n",
              "11212    backer atrium lobbi consid join forc foyer lob...\n",
              "14799    wa suppos receiv spirithalloween order today c...\n",
              "6846     depress come least expect it like shittiest pe...\n",
              "1226     grime throw fun bloodi parti flesh without blo...\n",
              "Name: text, dtype: object"
            ]
          },
          "metadata": {},
          "execution_count": 23
        }
      ],
      "source": [
        "# Firstly, convert categorical labels into numerical ones\n",
        "# Function for encoding categories\n",
        "from sklearn.preprocessing import LabelEncoder\n",
        "\n",
        "encoder = LabelEncoder()\n",
        "y = encoder.fit_transform(data['gender'])\n",
        "\n",
        "# split the dataset in train and test\n",
        "X = data['text']\n",
        "# Stratify will create a train set with the same class balance than the original set\n",
        "X_train, X_test, y_train, y_test = train_test_split(X, y, test_size=0.3, random_state=0, stratify=y)\n",
        "\n",
        "X_train.head()"
      ]
    },
    {
      "cell_type": "code",
      "execution_count": 24,
      "metadata": {
        "id": "ichlNXCMj_-n"
      },
      "outputs": [],
      "source": [
        "def classification_modeling(X_train, X_test, y_train, y_test, text_feature=False):\n",
        "    \"\"\"\n",
        "    This function iterates different possible models\n",
        "    and return corresponding accuracy\n",
        "\n",
        "    Args:\n",
        "        text_feature: Whether the model handles text features or not\n",
        "\n",
        "    Return: The best fitted model\n",
        "    \"\"\"\n",
        "    clf_dict = {'lr': LogisticRegression(multi_class='ovr', random_state=0),\n",
        "                'rf': RandomForestClassifier(n_estimators = 50, random_state=0),\n",
        "                'svm': SVC(kernel = 'rbf', probability=True),\n",
        "                'nb': ComplementNB()\n",
        "               }\n",
        "    result_dict = dict.fromkeys(clf_dict, None)\n",
        "    pred_dict = dict.fromkeys(clf_dict, None)\n",
        "\n",
        "    for clf_key in clf_dict:\n",
        "        if text_feature == True:\n",
        "            tfidf = TfidfVectorizer()\n",
        "            clf = Pipeline([('vect', tfidf),\n",
        "                            ('clf', clf_dict[clf_key])])\n",
        "        else:\n",
        "            clf = clf_dict[clf_key]\n",
        "        clf.fit(X_train, y_train)\n",
        "        predictions = clf.predict(X_test)\n",
        "        acc = accuracy_score(y_test,predictions)\n",
        "        result_dict[clf_key] = acc\n",
        "        pred_dict[clf_key] = predictions\n",
        "        print('Fitting ' + clf_key + ' - Acc:', acc)\n",
        "        print('Confusion matrix:\\n',confusion_matrix(y_test,predictions))\n",
        "        print('-'*40)\n",
        "\n",
        "    win_clf = max(result_dict, key=lambda key: result_dict[key])\n",
        "    print(\"Win classifier: \", win_clf, \"- Acc: \",result_dict[win_clf])\n",
        "    return np.asarray(pred_dict[win_clf])"
      ]
    },
    {
      "cell_type": "code",
      "execution_count": 25,
      "metadata": {
        "colab": {
          "base_uri": "https://localhost:8080/",
          "height": 870
        },
        "id": "1T0wUnDUj_-n",
        "outputId": "ebf468c2-d00e-47cc-830b-23c6636ed261"
      },
      "outputs": [
        {
          "output_type": "stream",
          "name": "stdout",
          "text": [
            "Fitting lr - Acc: 0.5463544181554805\n",
            "Confusion matrix:\n",
            " [[ 587  282  267]\n",
            " [ 122 1091  397]\n",
            " [ 165  646  585]]\n",
            "----------------------------------------\n",
            "Fitting rf - Acc: 0.5217286335103815\n",
            "Confusion matrix:\n",
            " [[ 524  409  203]\n",
            " [  92 1241  277]\n",
            " [ 125  875  396]]\n",
            "----------------------------------------\n",
            "Fitting svm - Acc: 0.5533558667310478\n",
            "Confusion matrix:\n",
            " [[ 553  300  283]\n",
            " [  80 1148  382]\n",
            " [ 120  685  591]]\n",
            "----------------------------------------\n",
            "Fitting nb - Acc: 0.5509415741187832\n",
            "Confusion matrix:\n",
            " [[ 641  295  200]\n",
            " [ 156 1173  281]\n",
            " [ 202  726  468]]\n",
            "----------------------------------------\n",
            "Win classifier:  svm - Acc:  0.5533558667310478\n",
            "Classification Report:\n",
            "              precision    recall  f1-score   support\n",
            "\n",
            "           0       0.73      0.49      0.59      1136\n",
            "           1       0.54      0.71      0.61      1610\n",
            "           2       0.47      0.42      0.45      1396\n",
            "\n",
            "    accuracy                           0.55      4142\n",
            "   macro avg       0.58      0.54      0.55      4142\n",
            "weighted avg       0.57      0.55      0.55      4142\n",
            "\n",
            "F1-score: 0.5492\n"
          ]
        },
        {
          "output_type": "error",
          "ename": "TypeError",
          "evalue": "ignored",
          "traceback": [
            "\u001b[0;31m---------------------------------------------------------------------------\u001b[0m",
            "\u001b[0;31mTypeError\u001b[0m                                 Traceback (most recent call last)",
            "\u001b[0;32m<ipython-input-25-b7aa92d119ed>\u001b[0m in \u001b[0;36m<cell line: 15>\u001b[0;34m()\u001b[0m\n\u001b[1;32m     13\u001b[0m \u001b[0;31m# Assuming `final_text_preds` is the predicted labels on the test set\u001b[0m\u001b[0;34m\u001b[0m\u001b[0;34m\u001b[0m\u001b[0m\n\u001b[1;32m     14\u001b[0m \u001b[0;31m# `y_test` contains the true labels\u001b[0m\u001b[0;34m\u001b[0m\u001b[0;34m\u001b[0m\u001b[0m\n\u001b[0;32m---> 15\u001b[0;31m \u001b[0mroc_auc\u001b[0m \u001b[0;34m=\u001b[0m \u001b[0mroc_auc_score\u001b[0m\u001b[0;34m(\u001b[0m\u001b[0mtf\u001b[0m\u001b[0;34m.\u001b[0m\u001b[0mkeras\u001b[0m\u001b[0;34m.\u001b[0m\u001b[0mutils\u001b[0m\u001b[0;34m.\u001b[0m\u001b[0mto_categorical\u001b[0m\u001b[0;34m(\u001b[0m\u001b[0my_test\u001b[0m\u001b[0;34m,\u001b[0m \u001b[0mnum_classes\u001b[0m\u001b[0;34m=\u001b[0m\u001b[0;36m3\u001b[0m\u001b[0;34m)\u001b[0m\u001b[0;34m)\u001b[0m\u001b[0;34m\u001b[0m\u001b[0;34m\u001b[0m\u001b[0m\n\u001b[0m\u001b[1;32m     16\u001b[0m \u001b[0mprint\u001b[0m\u001b[0;34m(\u001b[0m\u001b[0;34mf\"ROC-AUC Score: {roc_auc:.4f}\"\u001b[0m\u001b[0;34m)\u001b[0m\u001b[0;34m\u001b[0m\u001b[0;34m\u001b[0m\u001b[0m\n",
            "\u001b[0;31mTypeError\u001b[0m: roc_auc_score() missing 1 required positional argument: 'y_score'"
          ]
        }
      ],
      "source": [
        "from sklearn.metrics import classification_report, f1_score, roc_auc_score\n",
        "\n",
        "best_text_preds = classification_modeling(X_train, X_test, y_train, y_test, text_feature=True)\n",
        "\n",
        "# Calculate and print classification report\n",
        "print(\"Classification Report:\")\n",
        "print(classification_report(y_test, best_text_preds))\n",
        "\n",
        "# Calculate and print F1-score\n",
        "f1 = f1_score(y_test, best_text_preds, average='weighted')\n",
        "print(f\"F1-score: {f1:.4f}\")"
      ]
    },
    {
      "cell_type": "markdown",
      "metadata": {
        "id": "SfxRMjRoj_-n"
      },
      "source": [
        "### 4.2 Concatenating `description` to `text`"
      ]
    },
    {
      "cell_type": "code",
      "execution_count": 26,
      "metadata": {
        "id": "ix_pxtS6j_-n"
      },
      "outputs": [],
      "source": [
        "# Concatenate text with description, add white space between.\n",
        "# By using Series helper functions Series.str()\n",
        "data['text_description'] = data['text'].str.cat(data['description'], sep=' ')"
      ]
    },
    {
      "cell_type": "markdown",
      "metadata": {
        "id": "vBAJzc2hj_-n"
      },
      "source": [
        "### Re-create training dataset"
      ]
    },
    {
      "cell_type": "code",
      "execution_count": 27,
      "metadata": {
        "colab": {
          "base_uri": "https://localhost:8080/"
        },
        "id": "xRGSJIMPj_-o",
        "outputId": "62c78653-a933-4b42-b38b-ea38134ff6f5"
      },
      "outputs": [
        {
          "output_type": "execute_result",
          "data": {
            "text/plain": [
              "False"
            ]
          },
          "metadata": {},
          "execution_count": 27
        }
      ],
      "source": [
        "# split the dataset in train and test\n",
        "X = data['text_description']\n",
        "X_train, X_test, y_train, y_test = train_test_split(X, y, test_size=0.3, random_state=0, stratify=y)\n",
        "#In the code line above, stratify will create a train set with the same class balance than the original set\n",
        "\n",
        "X_train.head()\n",
        "X_train.isnull().values.any() # Check if any null values, True if there is at least one."
      ]
    },
    {
      "cell_type": "code",
      "execution_count": 28,
      "metadata": {
        "colab": {
          "base_uri": "https://localhost:8080/",
          "height": 887
        },
        "id": "UbcXuat3j_-o",
        "outputId": "7952a081-58ee-43b1-a634-269a5608359f"
      },
      "outputs": [
        {
          "output_type": "stream",
          "name": "stdout",
          "text": [
            "Fitting lr - Acc: 0.6557218734910671\n",
            "Confusion matrix:\n",
            " [[ 820  167  149]\n",
            " [  73 1227  310]\n",
            " [ 137  590  669]]\n",
            "----------------------------------------\n",
            "Fitting rf - Acc: 0.6127474649927571\n",
            "Confusion matrix:\n",
            " [[ 776  242  118]\n",
            " [  88 1328  194]\n",
            " [ 120  842  434]]\n",
            "----------------------------------------\n",
            "Fitting svm - Acc: 0.6581361661033317\n",
            "Confusion matrix:\n",
            " [[ 784  177  175]\n",
            " [  55 1272  283]\n",
            " [ 105  621  670]]\n",
            "----------------------------------------\n",
            "Fitting nb - Acc: 0.6533075808788025\n",
            "Confusion matrix:\n",
            " [[ 878  154  104]\n",
            " [ 129 1277  204]\n",
            " [ 190  655  551]]\n",
            "----------------------------------------\n",
            "Win classifier:  svm - Acc:  0.6581361661033317\n",
            "Classification Report:\n",
            "              precision    recall  f1-score   support\n",
            "\n",
            "           0       0.83      0.69      0.75      1136\n",
            "           1       0.61      0.79      0.69      1610\n",
            "           2       0.59      0.48      0.53      1396\n",
            "\n",
            "    accuracy                           0.66      4142\n",
            "   macro avg       0.68      0.65      0.66      4142\n",
            "weighted avg       0.67      0.66      0.65      4142\n",
            "\n",
            "F1-score: 0.6544\n"
          ]
        },
        {
          "output_type": "error",
          "ename": "NameError",
          "evalue": "ignored",
          "traceback": [
            "\u001b[0;31m---------------------------------------------------------------------------\u001b[0m",
            "\u001b[0;31mNameError\u001b[0m                                 Traceback (most recent call last)",
            "\u001b[0;32m<ipython-input-28-162e87711b13>\u001b[0m in \u001b[0;36m<cell line: 13>\u001b[0;34m()\u001b[0m\n\u001b[1;32m     11\u001b[0m \u001b[0;31m# Assuming `final_text_preds` is the predicted labels on the test set\u001b[0m\u001b[0;34m\u001b[0m\u001b[0;34m\u001b[0m\u001b[0m\n\u001b[1;32m     12\u001b[0m \u001b[0;31m# `y_test` contains the true labels\u001b[0m\u001b[0;34m\u001b[0m\u001b[0;34m\u001b[0m\u001b[0m\n\u001b[0;32m---> 13\u001b[0;31m \u001b[0my_probs\u001b[0m \u001b[0;34m=\u001b[0m \u001b[0mclf\u001b[0m\u001b[0;34m.\u001b[0m\u001b[0mpredict_proba\u001b[0m\u001b[0;34m(\u001b[0m\u001b[0mX_test\u001b[0m\u001b[0;34m)\u001b[0m\u001b[0;34m\u001b[0m\u001b[0;34m\u001b[0m\u001b[0m\n\u001b[0m\u001b[1;32m     14\u001b[0m \u001b[0mroc_auc\u001b[0m \u001b[0;34m=\u001b[0m \u001b[0mroc_auc_score\u001b[0m\u001b[0;34m(\u001b[0m\u001b[0my_test\u001b[0m\u001b[0;34m,\u001b[0m \u001b[0my_probs\u001b[0m\u001b[0;34m,\u001b[0m \u001b[0maverage\u001b[0m\u001b[0;34m=\u001b[0m\u001b[0;34m'weighted'\u001b[0m\u001b[0;34m,\u001b[0m \u001b[0mmulti_class\u001b[0m\u001b[0;34m=\u001b[0m\u001b[0;34m'ovr'\u001b[0m\u001b[0;34m)\u001b[0m\u001b[0;34m\u001b[0m\u001b[0;34m\u001b[0m\u001b[0m\n\u001b[1;32m     15\u001b[0m \u001b[0mprint\u001b[0m\u001b[0;34m(\u001b[0m\u001b[0;34mf\"ROC-AUC Score: {roc_auc:.4f}\"\u001b[0m\u001b[0;34m)\u001b[0m\u001b[0;34m\u001b[0m\u001b[0;34m\u001b[0m\u001b[0m\n",
            "\u001b[0;31mNameError\u001b[0m: name 'clf' is not defined"
          ]
        }
      ],
      "source": [
        "best_text_preds = classification_modeling(X_train, X_test, y_train, y_test, text_feature=True)\n",
        "\n",
        "# Calculate and print classification report\n",
        "print(\"Classification Report:\")\n",
        "print(classification_report(y_test, best_text_preds))\n",
        "\n",
        "# Calculate and print F1-score\n",
        "f1 = f1_score(y_test, best_text_preds, average='weighted')\n",
        "print(f\"F1-score: {f1:.4f}\")"
      ]
    },
    {
      "cell_type": "markdown",
      "metadata": {
        "id": "gcWG8shXj_-o"
      },
      "source": [
        "### 4.3 with non-text features"
      ]
    },
    {
      "cell_type": "code",
      "execution_count": 29,
      "metadata": {
        "id": "gO_wXy7vj_-o"
      },
      "outputs": [],
      "source": [
        "encoder = LabelEncoder()\n",
        "y = encoder.fit_transform(data['gender'])\n",
        "\n",
        "# split the dataset in train and test\n",
        "X = data.drop(columns=['text','description','text_description', 'gender'])"
      ]
    },
    {
      "cell_type": "markdown",
      "metadata": {
        "id": "ZNBZKJZGj_-o"
      },
      "source": [
        "### Handling categorical features\n",
        "- `link_color` and `sidebar_color` has too many unique values, therefore, ordinary one-hot encoding will create a very large number of features.\n",
        "- Solution: Use `labelcount_encode` as inspried by [wrosinki](https://wrosinski.github.io/fe_categorical_encoding/)"
      ]
    },
    {
      "cell_type": "code",
      "execution_count": 30,
      "metadata": {
        "id": "aJCCKPXFj_-o"
      },
      "outputs": [],
      "source": [
        "def labelcount_encode(X, categorical_features, ascending=False):\n",
        "    '''\n",
        "        Encoding function taken from, ref for description:\n",
        "        https://wrosinski.github.io/fe_categorical_encoding/\n",
        "    '''\n",
        "    print('LabelCount encoding: {}'.format(categorical_features))\n",
        "    X_ = pd.DataFrame()\n",
        "    for cat_feature in categorical_features:\n",
        "        cat_feature_value_counts = X[cat_feature].value_counts()\n",
        "        value_counts_list = cat_feature_value_counts.index.tolist()\n",
        "        if ascending:\n",
        "            # for ascending ordering\n",
        "            value_counts_range = list(\n",
        "                reversed(range(len(cat_feature_value_counts))))\n",
        "        else:\n",
        "            # for descending ordering\n",
        "            value_counts_range = list(range(len(cat_feature_value_counts)))\n",
        "        labelcount_dict = dict(zip(value_counts_list, value_counts_range))\n",
        "        X_[cat_feature] = X[cat_feature].map(\n",
        "            labelcount_dict)\n",
        "    X_ = X_.add_suffix('_labelcount_encoded')\n",
        "    if ascending:\n",
        "        X_ = X_.add_suffix('_ascending')\n",
        "    else:\n",
        "        X_ = X_.add_suffix('_descending')\n",
        "    X_ = X_.astype(np.float)\n",
        "    return X_"
      ]
    },
    {
      "cell_type": "code",
      "execution_count": 31,
      "metadata": {
        "colab": {
          "base_uri": "https://localhost:8080/"
        },
        "id": "I0vJjD3Vj_-o",
        "outputId": "d49b2352-bfaf-42c1-e9e4-795129a0ac39"
      },
      "outputs": [
        {
          "output_type": "stream",
          "name": "stdout",
          "text": [
            "LabelCount encoding: ['link_color', 'sidebar_color']\n",
            "<class 'pandas.core.frame.DataFrame'>\n",
            "Int64Index: 13804 entries, 0 to 20049\n",
            "Data columns (total 6 columns):\n",
            " #   Column                                       Non-Null Count  Dtype  \n",
            "---  ------                                       --------------  -----  \n",
            " 0   fav_number                                   13804 non-null  int64  \n",
            " 1   retweet_count                                13804 non-null  int64  \n",
            " 2   tweet_count                                  13804 non-null  int64  \n",
            " 3   description_has_nan                          13804 non-null  bool   \n",
            " 4   link_color_labelcount_encoded_descending     13804 non-null  float64\n",
            " 5   sidebar_color_labelcount_encoded_descending  13804 non-null  float64\n",
            "dtypes: bool(1), float64(2), int64(3)\n",
            "memory usage: 660.5 KB\n"
          ]
        },
        {
          "output_type": "stream",
          "name": "stderr",
          "text": [
            "<ipython-input-30-358c567d57f6>:26: DeprecationWarning: `np.float` is a deprecated alias for the builtin `float`. To silence this warning, use `float` by itself. Doing this will not modify any behavior and is safe. If you specifically wanted the numpy scalar type, use `np.float64` here.\n",
            "Deprecated in NumPy 1.20; for more details and guidance: https://numpy.org/devdocs/release/1.20.0-notes.html#deprecations\n",
            "  X_ = X_.astype(np.float)\n"
          ]
        }
      ],
      "source": [
        "cat_features = ['link_color','sidebar_color']\n",
        "encoded = labelcount_encode(X, cat_features)\n",
        "\n",
        "X = pd.concat([X, encoded], axis=1)\n",
        "\n",
        "X.drop(columns=cat_features, inplace=True)\n",
        "X.info()"
      ]
    },
    {
      "cell_type": "code",
      "execution_count": 33,
      "metadata": {
        "id": "AVzsayQJj_-p"
      },
      "outputs": [],
      "source": [
        "# Stratify will create a train set with the same class balance than the original set\n",
        "X_train, X_test, y_train, y_test = train_test_split(X, y, test_size=0.3, random_state=0, stratify=y)"
      ]
    },
    {
      "cell_type": "code",
      "execution_count": 34,
      "metadata": {
        "colab": {
          "base_uri": "https://localhost:8080/"
        },
        "id": "kCm0okY-j_-p",
        "outputId": "b69b3840-0684-427d-a639-7ea31442cb15"
      },
      "outputs": [
        {
          "output_type": "stream",
          "name": "stdout",
          "text": [
            "Fitting lr - Acc: 0.5019314340898117\n",
            "Confusion matrix:\n",
            " [[ 707  379   50]\n",
            " [ 280 1213  117]\n",
            " [ 355  882  159]]\n",
            "----------------------------------------\n",
            "Fitting rf - Acc: 0.5651859005311444\n",
            "Confusion matrix:\n",
            " [[ 713  223  200]\n",
            " [ 175 1010  425]\n",
            " [ 227  551  618]]\n",
            "----------------------------------------\n",
            "Fitting svm - Acc: 0.4604056011588605\n",
            "Confusion matrix:\n",
            " [[ 506  630    0]\n",
            " [ 208 1399    3]\n",
            " [ 241 1153    2]]\n",
            "----------------------------------------\n",
            "Fitting nb - Acc: 0.47271849348140993\n",
            "Confusion matrix:\n",
            " [[ 881  255    0]\n",
            " [ 533 1077    0]\n",
            " [ 647  749    0]]\n",
            "----------------------------------------\n",
            "Win classifier:  rf - Acc:  0.5651859005311444\n",
            "Classification Report:\n",
            "              precision    recall  f1-score   support\n",
            "\n",
            "           0       0.64      0.63      0.63      1136\n",
            "           1       0.57      0.63      0.60      1610\n",
            "           2       0.50      0.44      0.47      1396\n",
            "\n",
            "    accuracy                           0.57      4142\n",
            "   macro avg       0.57      0.57      0.57      4142\n",
            "weighted avg       0.56      0.57      0.56      4142\n",
            "\n",
            "F1-score: 0.5629\n"
          ]
        }
      ],
      "source": [
        "best_non_text_preds = classification_modeling(X_train, X_test, y_train, y_test)\n",
        "\n",
        "# Calculate and print classification report\n",
        "print(\"Classification Report:\")\n",
        "print(classification_report(y_test, best_non_text_preds))\n",
        "\n",
        "# Calculate and print F1-score\n",
        "f1 = f1_score(y_test, best_non_text_preds, average='weighted')\n",
        "print(f\"F1-score: {f1:.4f}\")"
      ]
    },
    {
      "cell_type": "markdown",
      "metadata": {
        "id": "U2MAS7yWj_-p"
      },
      "source": [
        "### 4.4 Ensembling\n",
        "\n",
        "#### Combine models trained with text and non-text"
      ]
    },
    {
      "cell_type": "code",
      "execution_count": 35,
      "metadata": {
        "colab": {
          "base_uri": "https://localhost:8080/"
        },
        "id": "nFbVlUIJj_-p",
        "outputId": "f19c0507-1a2e-4ac0-e114-16eec19add3a"
      },
      "outputs": [
        {
          "output_type": "stream",
          "name": "stdout",
          "text": [
            "Ensembled accuracy:  0.5864316755190729\n"
          ]
        }
      ],
      "source": [
        "final_preds = np.around(best_text_preds*0.5 + best_non_text_preds*0.5).flatten()  # Flatten to 1D array\n",
        "print('Ensembled accuracy: ', accuracy_score(final_preds, y_test))"
      ]
    },
    {
      "cell_type": "markdown",
      "metadata": {
        "id": "okeSyXONj_-p"
      },
      "source": [
        "\n",
        "#### Try using ensemble classifiers for textual data only"
      ]
    },
    {
      "cell_type": "code",
      "execution_count": 36,
      "metadata": {
        "colab": {
          "base_uri": "https://localhost:8080/"
        },
        "id": "21aFrSxoj_-p",
        "outputId": "be92a3a3-bbef-43fa-e48d-18f3a226fede"
      },
      "outputs": [
        {
          "output_type": "stream",
          "name": "stdout",
          "text": [
            "Accuracy: 0.6627233220666344\n",
            "Confusion matrix:\n",
            " [[ 861  140  135]\n",
            " [  94 1216  300]\n",
            " [ 161  567  668]]\n",
            "Classification Report:\n",
            "              precision    recall  f1-score   support\n",
            "\n",
            "           0       0.77      0.76      0.76      1136\n",
            "           1       0.63      0.76      0.69      1610\n",
            "           2       0.61      0.48      0.53      1396\n",
            "\n",
            "    accuracy                           0.66      4142\n",
            "   macro avg       0.67      0.66      0.66      4142\n",
            "weighted avg       0.66      0.66      0.66      4142\n",
            "\n",
            "F1-score: 0.6575\n",
            "ROC-AUC Score: 0.8343\n"
          ]
        }
      ],
      "source": [
        "from sklearn.metrics import accuracy_score, confusion_matrix, classification_report, f1_score, roc_auc_score\n",
        "from sklearn.ensemble import VotingClassifier\n",
        "from sklearn.linear_model import LogisticRegression\n",
        "from sklearn.naive_bayes import ComplementNB\n",
        "from sklearn.svm import SVC\n",
        "from sklearn.feature_extraction.text import TfidfVectorizer\n",
        "from sklearn.pipeline import Pipeline\n",
        "from sklearn.model_selection import train_test_split\n",
        "import pandas as pd\n",
        "from sklearn.preprocessing import LabelEncoder\n",
        "\n",
        "# Assuming data['text_description'] contains the combined text and description\n",
        "\n",
        "X = data['text_description']\n",
        "y = encoder.fit_transform(data['gender'])\n",
        "X_train, X_test, y_train, y_test = train_test_split(X, y, test_size=0.3, random_state=0, stratify=y)\n",
        "\n",
        "clf1 = LogisticRegression(multi_class='ovr', random_state=0)\n",
        "clf2 = ComplementNB()\n",
        "clf3 = SVC(kernel='linear', probability=True, random_state=0)\n",
        "\n",
        "ensemble_clf = VotingClassifier(estimators=[\n",
        "    ('lr', clf1), ('rf', clf2), ('svm', clf3)], voting='soft')\n",
        "\n",
        "clf = Pipeline([('vect', TfidfVectorizer()), ('clf', ensemble_clf)])\n",
        "\n",
        "clf.fit(X_train, y_train)\n",
        "\n",
        "predictions = clf.predict(X_test)\n",
        "print('Accuracy:', accuracy_score(y_test, predictions))\n",
        "print('Confusion matrix:\\n', confusion_matrix(y_test, predictions))\n",
        "\n",
        "# Added classification_report and f1_score\n",
        "print('Classification Report:')\n",
        "print(classification_report(y_test, predictions))\n",
        "\n",
        "f1 = f1_score(y_test, predictions, average='weighted')\n",
        "print(f'F1-score: {f1:.4f}')\n",
        "\n",
        "# Calculate ROC-AUC score\n",
        "roc_auc = roc_auc_score(tf.keras.utils.to_categorical(y_test, num_classes=3), clf.predict_proba(X_test))\n",
        "print(f'ROC-AUC Score: {roc_auc:.4f}')\n"
      ]
    },
    {
      "cell_type": "code",
      "source": [
        "print(\"Shape of y_test:\", y_test.shape)\n",
        "print(\"Shape of final_preds:\", final_preds.shape)"
      ],
      "metadata": {
        "colab": {
          "base_uri": "https://localhost:8080/"
        },
        "id": "ayYmBOeijElF",
        "outputId": "f6bb0d60-c515-4a29-80ed-274fee9fbee1"
      },
      "execution_count": 37,
      "outputs": [
        {
          "output_type": "stream",
          "name": "stdout",
          "text": [
            "Shape of y_test: (4142,)\n",
            "Shape of final_preds: (4142,)\n"
          ]
        }
      ]
    },
    {
      "cell_type": "code",
      "source": [
        "# Define the evaluation function\n",
        "def evaluate_model(y_true, y_pred):\n",
        "    print(\"Classification Report:\")\n",
        "    print(classification_report(y_true, y_pred))\n",
        "\n",
        "    # Calculate F1-score\n",
        "    f1 = f1_score(y_true, y_pred, average='weighted')\n",
        "    print(f\"F1-score: {f1:.4f}\")\n",
        "\n",
        "\n",
        "# Assuming `final_preds` is the predicted labels on the test set\n",
        "# `y_test` contains the true labels\n",
        "evaluate_model(y_test, final_preds)\n"
      ],
      "metadata": {
        "colab": {
          "base_uri": "https://localhost:8080/"
        },
        "id": "epPPwa5Gianj",
        "outputId": "05c0f384-62d2-437e-94b2-3056d4a9cda3"
      },
      "execution_count": 39,
      "outputs": [
        {
          "output_type": "stream",
          "name": "stdout",
          "text": [
            "Classification Report:\n",
            "              precision    recall  f1-score   support\n",
            "\n",
            "           0       0.71      0.65      0.68      1136\n",
            "           1       0.55      0.55      0.55      1610\n",
            "           2       0.54      0.58      0.56      1396\n",
            "\n",
            "    accuracy                           0.59      4142\n",
            "   macro avg       0.60      0.59      0.60      4142\n",
            "weighted avg       0.59      0.59      0.59      4142\n",
            "\n",
            "F1-score: 0.5880\n"
          ]
        }
      ]
    },
    {
      "cell_type": "code",
      "source": [
        "import tensorflow as tf\n",
        "from tensorflow.keras.models import Sequential\n",
        "from tensorflow.keras.layers import Dense, Embedding, Flatten, Dropout\n",
        "from tensorflow.keras.preprocessing.text import Tokenizer\n",
        "from tensorflow.keras.preprocessing.sequence import pad_sequences\n",
        "\n",
        "# Assuming data['text_description'] contains the combined text and description\n",
        "X = data['text_description']\n",
        "y = encoder.fit_transform(data['gender'])\n",
        "X_train, X_test, y_train, y_test = train_test_split(X, y, test_size=0.3, random_state=0, stratify=y)\n",
        "\n",
        "# Tokenize text data\n",
        "max_words = 10000  # Maximum number of words to keep\n",
        "tokenizer = Tokenizer(num_words=max_words)\n",
        "tokenizer.fit_on_texts(X_train)\n",
        "X_train_sequences = tokenizer.texts_to_sequences(X_train)\n",
        "X_test_sequences = tokenizer.texts_to_sequences(X_test)\n",
        "\n",
        "# Pad sequences to have the same length\n",
        "max_sequence_length = 100  # Choose an appropriate value\n",
        "X_train_padded = pad_sequences(X_train_sequences, maxlen=max_sequence_length)\n",
        "X_test_padded = pad_sequences(X_test_sequences, maxlen=max_sequence_length)\n",
        "\n",
        "# Create a simple neural network\n",
        "model = Sequential([\n",
        "    Embedding(input_dim=max_words, output_dim=128, input_length=max_sequence_length),\n",
        "    Flatten(),\n",
        "    Dense(64, activation='relu'),\n",
        "    Dropout(0.5),\n",
        "    Dense(3, activation='softmax')  # Assuming 3 classes (male, female, brand)\n",
        "])\n",
        "\n",
        "model.compile(optimizer='adam', loss='sparse_categorical_crossentropy', metrics=['accuracy'])\n",
        "\n",
        "# Train the model\n",
        "history = model.fit(X_train_padded, y_train, epochs=3, validation_data=(X_test_padded, y_test))\n",
        "\n",
        "# Evaluate the model\n",
        "loss, accuracy = model.evaluate(X_test_padded, y_test)\n",
        "print(f'Accuracy: {accuracy:.4f}')\n",
        "\n",
        "# Predict probabilities for evaluation\n",
        "y_pred_probs = model.predict(X_test_padded)\n",
        "\n",
        "# Convert probabilities to class labels\n",
        "y_pred = y_pred_probs.argmax(axis=1)\n",
        "\n",
        "# Calculate F1 score\n",
        "f1 = f1_score(y_test, y_pred, average='weighted')\n",
        "print(f'F1-score: {f1:.4f}')\n",
        "\n",
        "# Calculate ROC-AUC score\n",
        "roc_auc = roc_auc_score(tf.keras.utils.to_categorical(y_test, num_classes=3), y_pred_probs)\n",
        "print(f'ROC-AUC Score: {roc_auc:.4f}')\n",
        "\n",
        "# Calculate and print classification report\n",
        "classification_rep = classification_report(y_test, y_pred)\n",
        "print(\"Classification Report:\")\n",
        "print(classification_rep)\n",
        "\n",
        "# Model training performance\n",
        "history_dict = history.history\n",
        "\n",
        "# Plot training and validation loss\n",
        "plt.figure(figsize=(10, 4))\n",
        "plt.subplot(1, 2, 1)\n",
        "plt.plot(history_dict['loss'], label='Training Loss')\n",
        "plt.plot(history_dict['val_loss'], label='Validation Loss')\n",
        "plt.xlabel('Epochs')\n",
        "plt.ylabel('Loss')\n",
        "plt.legend()\n",
        "\n",
        "# Plot training and validation accuracy\n",
        "plt.subplot(1, 2, 2)\n",
        "plt.plot(history_dict['accuracy'], label='Training Accuracy')\n",
        "plt.plot(history_dict['val_accuracy'], label='Validation Accuracy')\n",
        "plt.xlabel('Epochs')\n",
        "plt.ylabel('Accuracy')\n",
        "plt.legend()\n",
        "\n",
        "plt.show()\n"
      ],
      "metadata": {
        "colab": {
          "base_uri": "https://localhost:8080/",
          "height": 770
        },
        "id": "zOpx2EiNlvMp",
        "outputId": "cca45e1b-8b3d-4402-d8c8-36111025870e"
      },
      "execution_count": 40,
      "outputs": [
        {
          "output_type": "stream",
          "name": "stdout",
          "text": [
            "Epoch 1/3\n",
            "302/302 [==============================] - 14s 41ms/step - loss: 0.9649 - accuracy: 0.4982 - val_loss: 0.7914 - val_accuracy: 0.6091\n",
            "Epoch 2/3\n",
            "302/302 [==============================] - 10s 35ms/step - loss: 0.6018 - accuracy: 0.7445 - val_loss: 0.7804 - val_accuracy: 0.6330\n",
            "Epoch 3/3\n",
            "302/302 [==============================] - 9s 31ms/step - loss: 0.1841 - accuracy: 0.9417 - val_loss: 1.0538 - val_accuracy: 0.6210\n",
            "130/130 [==============================] - 0s 4ms/step - loss: 1.0538 - accuracy: 0.6210\n",
            "Accuracy: 0.6210\n",
            "130/130 [==============================] - 1s 3ms/step\n",
            "F1-score: 0.6219\n",
            "ROC-AUC Score: 0.8028\n",
            "Classification Report:\n",
            "              precision    recall  f1-score   support\n",
            "\n",
            "           0       0.76      0.72      0.74      1136\n",
            "           1       0.61      0.63      0.62      1610\n",
            "           2       0.52      0.53      0.52      1396\n",
            "\n",
            "    accuracy                           0.62      4142\n",
            "   macro avg       0.63      0.63      0.63      4142\n",
            "weighted avg       0.62      0.62      0.62      4142\n",
            "\n"
          ]
        },
        {
          "output_type": "display_data",
          "data": {
            "text/plain": [
              "<Figure size 1000x400 with 2 Axes>"
            ],
            "image/png": "[encoded data removed]"
          },
          "metadata": {}
        }
      ]
    },
    {
      "cell_type": "markdown",
      "metadata": {
        "id": "5xv6oh2pj_-q"
      },
      "source": [
        "## Conclusions\n",
        "\n",
        "I implemented a basline model of Gender classification based on the dataset provided on Kaggle.\n",
        "This is actually an interesting problem among with the Sentiment classification problem, which is more popular.\n",
        "\n",
        "The results show that Only the **Tweet text** can yield a moderate accuracy, although it's not substantially high.\n",
        "But with the content from the **Description**, the classifiers actually improve its performance significantly.\n",
        "\n",
        "The models fitted on other features do not yield good result, average accuracy is about 50%, which represents a random model. Further feature engineering and analysis should be conducted to make use of these features better, especially on `link_color` and `sidebar_color`, as they are shown to be different for different gender.\n",
        "\n",
        "A trial attempt of using majority voting for models trained on **Tweet text** increase the accuracy slightly (0.4%).\n",
        "\n",
        "As reported by [CrowdFlower AI](https://www.figure-eight.com/using-machine-learning-to-predict-gender/), their model can get to 60% of accuracy with a different approach (although the evaluation metrics may not be `accuracy`)."
      ]
    }
  ],
  "metadata": {
    "kernelspec": {
      "display_name": "Python 3",
      "language": "python",
      "name": "python3"
    },
    "language_info": {
      "codemirror_mode": {
        "name": "ipython",
        "version": 3
      },
      "file_extension": ".py",
      "mimetype": "text/x-python",
      "name": "python",
      "nbconvert_exporter": "python",
      "pygments_lexer": "ipython3",
      "version": "3.7.4"
    },
    "colab": {
      "provenance": []
    }
  },
  "nbformat": 4,
  "nbformat_minor": 0
}